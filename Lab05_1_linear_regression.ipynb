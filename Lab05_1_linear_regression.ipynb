{
 "cells": [
  {
   "cell_type": "code",
   "execution_count": 1,
   "source": [
    "import numpy as np\r\n",
    "from sklearn.linear_model import LinearRegression"
   ],
   "outputs": [],
   "metadata": {}
  },
  {
   "cell_type": "code",
   "execution_count": 2,
   "source": [
    "inputs = np.array([[73, 67, 43],\r\n",
    "                    [91, 88, 64],\r\n",
    "                    [87, 134, 58],\r\n",
    "                    [102, 43, 37],\r\n",
    "                    [69, 96, 70],\r\n",
    "                    [73, 67, 43],\r\n",
    "                    [91, 88, 64],\r\n",
    "                    [87, 134, 58],\r\n",
    "                    [102, 43, 37],\r\n",
    "                    [69, 96, 70],\r\n",
    "                    [73, 67, 43], \r\n",
    "                    [91, 88, 64], \r\n",
    "                    [87, 134, 58], \r\n",
    "                    [102, 43, 37], \r\n",
    "                    [69, 96, 70]], dtype='float32')\r\n",
    "print(inputs.shape)"
   ],
   "outputs": [
    {
     "output_type": "stream",
     "name": "stdout",
     "text": [
      "(15, 3)\n"
     ]
    }
   ],
   "metadata": {}
  },
  {
   "cell_type": "code",
   "execution_count": 3,
   "source": [
    "targets = np.array([[56, 70], [81, 101], [119, 133], [22, 37], [103, 119],\r\n",
    "[56, 70], [81, 101], [119, 133], [22, 37], [103, 119],\r\n",
    "[56, 70], [81, 101], [119, 133], [22, 37], [103, 119]], dtype='float32')"
   ],
   "outputs": [],
   "metadata": {}
  },
  {
   "cell_type": "code",
   "execution_count": 4,
   "source": [
    "from sklearn.model_selection import train_test_split\r\n",
    "x_train,x_test,y_train,y_test = train_test_split(inputs,targets,test_size=0.3, random_state=87)"
   ],
   "outputs": [],
   "metadata": {}
  },
  {
   "cell_type": "code",
   "execution_count": 7,
   "source": [
    "reg = LinearRegression().fit(x_train,y_train)\r\n",
    "print(reg)\r\n",
    "print(\"bais value: \",reg.intercept_)\r\n",
    "print(\"m Value: \",reg.coef_)"
   ],
   "outputs": [
    {
     "output_type": "stream",
     "name": "stdout",
     "text": [
      "LinearRegression()\n",
      "bais value:  [-0.10452271 -2.3257446 ]\n",
      "m Value:  [[-0.39944875  0.84559894  0.68880486]\n",
      " [-0.28432584  0.794158    0.9256325 ]]\n"
     ]
    }
   ],
   "metadata": {}
  },
  {
   "cell_type": "code",
   "execution_count": 11,
   "source": [
    "y_pred = reg.predict(x_test)\r\n",
    "print(y_pred,\"\\n\")\r\n",
    "print(y_test)"
   ],
   "outputs": [
    {
     "output_type": "stream",
     "name": "stdout",
     "text": [
      "[[ 20.998238  37.070213]\n",
      " [ 57.009457  69.929245]\n",
      " [118.40438  133.04176 ]\n",
      " [101.72735  119.08921 ]\n",
      " [118.40438  133.04176 ]] \n",
      "\n",
      "[[ 22.  37.]\n",
      " [ 56.  70.]\n",
      " [119. 133.]\n",
      " [103. 119.]\n",
      " [119. 133.]]\n"
     ]
    }
   ],
   "metadata": {}
  },
  {
   "cell_type": "code",
   "execution_count": 12,
   "source": [
    "from sklearn import metrics\r\n",
    "print('\\n Mean Squared Error:', metrics.mean_squared_error(y_test, y_pred))"
   ],
   "outputs": [
    {
     "output_type": "stream",
     "name": "stdout",
     "text": [
      "\n",
      " Mean Squared Error: 0.43730807\n"
     ]
    }
   ],
   "metadata": {}
  }
 ],
 "metadata": {
  "orig_nbformat": 4,
  "language_info": {
   "name": "python",
   "version": "3.9.2",
   "mimetype": "text/x-python",
   "codemirror_mode": {
    "name": "ipython",
    "version": 3
   },
   "pygments_lexer": "ipython3",
   "nbconvert_exporter": "python",
   "file_extension": ".py"
  },
  "kernelspec": {
   "name": "python3",
   "display_name": "Python 3.9.2 64-bit"
  },
  "interpreter": {
   "hash": "dcacb0086e9a4f4eabd41c33bf4faac5ea0a3337ed3f5eff0680afa930572c04"
  }
 },
 "nbformat": 4,
 "nbformat_minor": 2
}