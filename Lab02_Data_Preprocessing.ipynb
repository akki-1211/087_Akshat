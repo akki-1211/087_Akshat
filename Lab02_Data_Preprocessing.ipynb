{
 "cells": [
  {
   "cell_type": "markdown",
   "source": [
    "# Exercise: Perform all data preprocessing tasks and feature selection on “Exercise-CarData.csv”\r\n",
    "## *Hint: Check “na_values” attribute of ```pd.read()```*"
   ],
   "metadata": {}
  },
  {
   "cell_type": "code",
   "execution_count": 2,
   "source": [
    "import numpy as np\r\n",
    "import pandas as pd\r\n",
    "from sklearn.preprocessing import MinMaxScaler, StandardScaler\r\n",
    "from sklearn.impute import SimpleImputer\r\n",
    "from sklearn.preprocessing import LabelEncoder\r\n",
    "import seaborn as sns"
   ],
   "outputs": [],
   "metadata": {}
  },
  {
   "cell_type": "markdown",
   "source": [
    "## 0. Load Data"
   ],
   "metadata": {}
  },
  {
   "cell_type": "code",
   "execution_count": 7,
   "source": [
    "dataset = pd.read_csv(\"Exercise-CarData.csv\", index_col=[0])\r\n",
    "print(f'Data:\\n{dataset}')\r\n",
    "print(f'Data statistics:\\n{dataset.describe()}')"
   ],
   "outputs": [
    {
     "output_type": "stream",
     "name": "stdout",
     "text": [
      "Data:\n",
      "      Price   Age     KM FuelType   HP  MetColor  Automatic    CC  Doors  \\\n",
      "0     13500  23.0  46986   Diesel   90       1.0          0  2000  three   \n",
      "1     13750  23.0  72937   Diesel   90       1.0          0  2000      3   \n",
      "2     13950  24.0  41711   Diesel   90       NaN          0  2000      3   \n",
      "3     14950  26.0  48000   Diesel   90       0.0          0  2000      3   \n",
      "4     13750  30.0  38500   Diesel   90       0.0          0  2000      3   \n",
      "...     ...   ...    ...      ...  ...       ...        ...   ...    ...   \n",
      "1431   7500   NaN  20544   Petrol   86       1.0          0  1300      3   \n",
      "1432  10845  72.0     ??   Petrol   86       0.0          0  1300      3   \n",
      "1433   8500   NaN  17016   Petrol   86       0.0          0  1300      3   \n",
      "1434   7250  70.0     ??      NaN   86       1.0          0  1300      3   \n",
      "1435   6950  76.0      1   Petrol  110       0.0          0  1600      5   \n",
      "\n",
      "      Weight  \n",
      "0       1165  \n",
      "1       1165  \n",
      "2       1165  \n",
      "3       1165  \n",
      "4       1170  \n",
      "...      ...  \n",
      "1431    1025  \n",
      "1432    1015  \n",
      "1433    1015  \n",
      "1434    1015  \n",
      "1435    1114  \n",
      "\n",
      "[1436 rows x 10 columns]\n",
      "Data statistics:\n",
      "              Price          Age     MetColor    Automatic           CC  \\\n",
      "count   1436.000000  1336.000000  1286.000000  1436.000000  1436.000000   \n",
      "mean   10730.824513    55.672156     0.674961     0.055710  1566.827994   \n",
      "std     3626.964585    18.589804     0.468572     0.229441   187.182436   \n",
      "min     4350.000000     1.000000     0.000000     0.000000  1300.000000   \n",
      "25%     8450.000000    43.000000     0.000000     0.000000  1400.000000   \n",
      "50%     9900.000000    60.000000     1.000000     0.000000  1600.000000   \n",
      "75%    11950.000000    70.000000     1.000000     0.000000  1600.000000   \n",
      "max    32500.000000    80.000000     1.000000     1.000000  2000.000000   \n",
      "\n",
      "           Weight  \n",
      "count  1436.00000  \n",
      "mean   1072.45961  \n",
      "std      52.64112  \n",
      "min    1000.00000  \n",
      "25%    1040.00000  \n",
      "50%    1070.00000  \n",
      "75%    1085.00000  \n",
      "max    1615.00000  \n"
     ]
    }
   ],
   "metadata": {}
  },
  {
   "cell_type": "markdown",
   "source": [
    "## 1. Apply LabelEncoder on the non numeric data to convert it into numeric values"
   ],
   "metadata": {}
  },
  {
   "cell_type": "code",
   "execution_count": 13,
   "source": [
    "dataset.dropna(how='all', inplace=True)\r\n",
    "\r\n",
    "# Print datatype of each column\r\n",
    "print(dataset.dtypes)\r\n",
    "\r\n",
    "# all rows and columns except last column\r\n",
    "new_X = dataset.iloc[:, :-1].values\r\n",
    "\r\n",
    "# last column\r\n",
    "new_Y = dataset.iloc[:, -1].values\r\n",
    "\r\n",
    "new_X[:, 3] = new_X[:, 3].astype('str')\r\n",
    "le = LabelEncoder()\r\n",
    "new_X[:, 3] = le.fit_transform(new_X[:, 3])\r\n",
    "\r\n",
    "print(f'\\n\\nInput before imputation:\\n\\n{new_X[6]}')"
   ],
   "outputs": [
    {
     "output_type": "stream",
     "name": "stdout",
     "text": [
      "     Price   Age    KM FuelType   HP  MetColor  Automatic    CC Doors  Weight\n",
      "163  19500  14.0  6500      NaN  110       NaN          0  1600     4    1100\n",
      "Price          int64\n",
      "Age          float64\n",
      "KM            object\n",
      "FuelType      object\n",
      "HP            object\n",
      "MetColor     float64\n",
      "Automatic      int64\n",
      "CC             int64\n",
      "Doors         object\n",
      "Weight         int64\n",
      "dtype: object\n",
      "\n",
      "\n",
      "Input before imputation:\n",
      "\n",
      "[16900 27.0 '??' 1 '????' nan 0 2000 '3']\n"
     ]
    }
   ],
   "metadata": {}
  },
  {
   "cell_type": "markdown",
   "source": [
    "## 2. Handling null values by imputation"
   ],
   "metadata": {}
  },
  {
   "cell_type": "code",
   "execution_count": 15,
   "source": [
    "str_to_num_dict = {\r\n",
    "    \"zero\": 0,\r\n",
    "    \"one\": 1,\r\n",
    "    \"two\": 2,\r\n",
    "    \"three\": 3,\r\n",
    "    \"four\": 4,\r\n",
    "    \"five\": 5,\r\n",
    "    \"six\": 6,\r\n",
    "    \"seven\": 7,\r\n",
    "    \"eight\": 8,\r\n",
    "    \"nine\": 9,\r\n",
    "    \"ten\": 10\r\n",
    "}\r\n",
    "\r\n",
    "for i in range(new_X[:, 3].size):\r\n",
    "    if new_X[i,2] == \"??\": # 2 = KM\r\n",
    "        new_X[i, 2] = np.nan\r\n",
    "    if new_X[i, 4] == \"????\": # 4 = HP\r\n",
    "        new_X[i, 4] = np.nan\r\n",
    "    temp_str = str(new_X[i,8]) # 8 = Doors\r\n",
    "    if temp_str.isnumeric():\r\n",
    "        new_X[i, 8] = int(temp_str)\r\n",
    "    else:\r\n",
    "        new_X[i, 8] = str_to_num_dict[temp_str]\r\n",
    "\r\n",
    "# Use Imputer Function to replace NaN values with the mean of that parameter value\r\n",
    "imputer = SimpleImputer(missing_values=np.nan, strategy='mean')\r\n",
    "mode_imputer = SimpleImputer(missing_values=np.nan, strategy=\"most_frequent\")\r\n",
    "\r\n",
    "# Fit the data using imputer\r\n",
    "the_imputer = imputer.fit(new_X[:, 0:3])\r\n",
    "new_X[:, 0:3] = the_imputer.transform(new_X[:, 0:3])\r\n",
    "\r\n",
    "mode_imputer = mode_imputer.fit(new_X[:, 3:4])\r\n",
    "new_X[:, 3:4] = mode_imputer.transform(new_X[:, 3:4])\r\n",
    "\r\n",
    "the_imputer = imputer.fit(new_X[:,4:5])\r\n",
    "new_X[:, 4:5] = the_imputer.transform(new_X[:, 4:5])\r\n",
    "\r\n",
    "mode_imputer = mode_imputer.fit(new_X[:, 5:6])\r\n",
    "new_X[:, 5:6] = mode_imputer.transform(new_X[:, 5:6])\r\n",
    "\r\n",
    "print(f'\\n\\nNew Input with mean value for NaN:\\n\\n', new_X[6])"
   ],
   "outputs": [
    {
     "output_type": "stream",
     "name": "stdout",
     "text": [
      "\n",
      "\n",
      "New Input with mean value for NaN:\n",
      "\n",
      " [16900.0 27.0 68647.23997185081 1 101.47832167832168 1.0 0 2000 3]\n"
     ]
    }
   ],
   "metadata": {}
  },
  {
   "cell_type": "markdown",
   "source": [
    "## Converting Numpy NdArray to Pandas Dataframe"
   ],
   "metadata": {}
  },
  {
   "cell_type": "code",
   "execution_count": 16,
   "source": [
    "new_dataset = pd.DataFrame(new_X, columns=dataset.columns[:-1])\r\n",
    "new_dataset = new_dataset.astype(float)\r\n",
    "new_dataset.dtypes"
   ],
   "outputs": [
    {
     "output_type": "execute_result",
     "data": {
      "text/plain": [
       "Price        float64\n",
       "Age          float64\n",
       "KM           float64\n",
       "FuelType     float64\n",
       "HP           float64\n",
       "MetColor     float64\n",
       "Automatic    float64\n",
       "CC           float64\n",
       "Doors        float64\n",
       "dtype: object"
      ]
     },
     "metadata": {},
     "execution_count": 16
    }
   ],
   "metadata": {}
  },
  {
   "cell_type": "markdown",
   "source": [
    "## 3. Feature Selection"
   ],
   "metadata": {}
  },
  {
   "cell_type": "code",
   "execution_count": 17,
   "source": [
    "corr = new_dataset.corr()\r\n",
    "print(corr.head())\r\n",
    "sns.heatmap(corr, cmap=\"tab20\")"
   ],
   "outputs": [
    {
     "output_type": "stream",
     "name": "stdout",
     "text": [
      "             Price       Age        KM  FuelType        HP  MetColor  \\\n",
      "Price     1.000000 -0.845111 -0.565016  0.022730  0.308414  0.100920   \n",
      "Age      -0.845111  1.000000  0.495199  0.033599 -0.152946 -0.084719   \n",
      "KM       -0.565016  0.495199  1.000000 -0.356238 -0.332984 -0.088175   \n",
      "FuelType  0.022730  0.033599 -0.356238  1.000000  0.304205  0.021658   \n",
      "HP        0.308414 -0.152946 -0.332984  0.304205  1.000000  0.058166   \n",
      "\n",
      "          Automatic        CC     Doors  \n",
      "Price      0.033081  0.165067  0.185326  \n",
      "Age        0.030931 -0.116255 -0.151785  \n",
      "KM        -0.080743  0.296281 -0.036021  \n",
      "FuelType   0.073860 -0.499114 -0.018434  \n",
      "HP         0.013753  0.053466  0.096938  \n"
     ]
    },
    {
     "output_type": "execute_result",
     "data": {
      "text/plain": [
       "<AxesSubplot:>"
      ]
     },
     "metadata": {},
     "execution_count": 17
    },
    {
     "output_type": "display_data",
     "data": {
      "text/plain": [
       "<Figure size 432x288 with 2 Axes>"
      ],
      "image/svg+xml": "<?xml version=\"1.0\" encoding=\"utf-8\" standalone=\"no\"?>\r\n<!DOCTYPE svg PUBLIC \"-//W3C//DTD SVG 1.1//EN\"\r\n  \"http://www.w3.org/Graphics/SVG/1.1/DTD/svg11.dtd\">\r\n<svg height=\"293.922031pt\" version=\"1.1\" viewBox=\"0 0 405.780125 293.922031\" width=\"405.780125pt\" xmlns=\"http://www.w3.org/2000/svg\" xmlns:xlink=\"http://www.w3.org/1999/xlink\">\r\n <metadata>\r\n  <rdf:RDF xmlns:cc=\"http://creativecommons.org/ns#\" xmlns:dc=\"http://purl.org/dc/elements/1.1/\" xmlns:rdf=\"http://www.w3.org/1999/02/22-rdf-syntax-ns#\">\r\n   <cc:Work>\r\n    <dc:type rdf:resource=\"http://purl.org/dc/dcmitype/StillImage\"/>\r\n    <dc:date>2021-09-02T14:27:29.984043</dc:date>\r\n    <dc:format>image/svg+xml</dc:format>\r\n    <dc:creator>\r\n     <cc:Agent>\r\n      <dc:title>Matplotlib v3.4.2, https://matplotlib.org/</dc:title>\r\n     </cc:Agent>\r\n    </dc:creator>\r\n   </cc:Work>\r\n  </rdf:RDF>\r\n </metadata>\r\n <defs>\r\n  <style type=\"text/css\">*{stroke-linecap:butt;stroke-linejoin:round;}</style>\r\n </defs>\r\n <g id=\"figure_1\">\r\n  <g id=\"patch_1\">\r\n   <path d=\"M 0 293.922031 \r\nL 405.780125 293.922031 \r\nL 405.780125 0 \r\nL 0 0 \r\nz\r\n\" style=\"fill:none;\"/>\r\n  </g>\r\n  <g id=\"axes_1\">\r\n   <g id=\"patch_2\">\r\n    <path d=\"M 65.482813 228.439219 \r\nL 333.322813 228.439219 \r\nL 333.322813 10.999219 \r\nL 65.482813 10.999219 \r\nz\r\n\" style=\"fill:#ffffff;\"/>\r\n   </g>\r\n   <g id=\"QuadMesh_1\">\r\n    <path clip-path=\"url(#p961ae49914)\" d=\"M 65.482813 10.999219 \r\nL 95.242813 10.999219 \r\nL 95.242813 35.159219 \r\nL 65.482813 35.159219 \r\nL 65.482813 10.999219 \r\n\" style=\"fill:#9edae5;\"/>\r\n    <path clip-path=\"url(#p961ae49914)\" d=\"M 95.242813 10.999219 \r\nL 125.002813 10.999219 \r\nL 125.002813 35.159219 \r\nL 95.242813 35.159219 \r\nL 95.242813 10.999219 \r\n\" style=\"fill:#1f77b4;\"/>\r\n    <path clip-path=\"url(#p961ae49914)\" d=\"M 125.002813 10.999219 \r\nL 154.762812 10.999219 \r\nL 154.762812 35.159219 \r\nL 125.002813 35.159219 \r\nL 125.002813 10.999219 \r\n\" style=\"fill:#ffbb78;\"/>\r\n    <path clip-path=\"url(#p961ae49914)\" d=\"M 154.762812 10.999219 \r\nL 184.522813 10.999219 \r\nL 184.522813 35.159219 \r\nL 154.762812 35.159219 \r\nL 154.762812 10.999219 \r\n\" style=\"fill:#c5b0d5;\"/>\r\n    <path clip-path=\"url(#p961ae49914)\" d=\"M 184.522813 10.999219 \r\nL 214.282813 10.999219 \r\nL 214.282813 35.159219 \r\nL 184.522813 35.159219 \r\nL 184.522813 10.999219 \r\n\" style=\"fill:#e377c2;\"/>\r\n    <path clip-path=\"url(#p961ae49914)\" d=\"M 214.282813 10.999219 \r\nL 244.042813 10.999219 \r\nL 244.042813 35.159219 \r\nL 214.282813 35.159219 \r\nL 214.282813 10.999219 \r\n\" style=\"fill:#8c564b;\"/>\r\n    <path clip-path=\"url(#p961ae49914)\" d=\"M 244.042813 10.999219 \r\nL 273.802813 10.999219 \r\nL 273.802813 35.159219 \r\nL 244.042813 35.159219 \r\nL 244.042813 10.999219 \r\n\" style=\"fill:#c5b0d5;\"/>\r\n    <path clip-path=\"url(#p961ae49914)\" d=\"M 273.802813 10.999219 \r\nL 303.562813 10.999219 \r\nL 303.562813 35.159219 \r\nL 273.802813 35.159219 \r\nL 273.802813 10.999219 \r\n\" style=\"fill:#8c564b;\"/>\r\n    <path clip-path=\"url(#p961ae49914)\" d=\"M 303.562813 10.999219 \r\nL 333.322813 10.999219 \r\nL 333.322813 35.159219 \r\nL 303.562813 35.159219 \r\nL 303.562813 10.999219 \r\n\" style=\"fill:#c49c94;\"/>\r\n    <path clip-path=\"url(#p961ae49914)\" d=\"M 65.482813 35.159219 \r\nL 95.242813 35.159219 \r\nL 95.242813 59.319219 \r\nL 65.482813 59.319219 \r\nL 65.482813 35.159219 \r\n\" style=\"fill:#1f77b4;\"/>\r\n    <path clip-path=\"url(#p961ae49914)\" d=\"M 95.242813 35.159219 \r\nL 125.002813 35.159219 \r\nL 125.002813 59.319219 \r\nL 95.242813 59.319219 \r\nL 95.242813 35.159219 \r\n\" style=\"fill:#9edae5;\"/>\r\n    <path clip-path=\"url(#p961ae49914)\" d=\"M 125.002813 35.159219 \r\nL 154.762812 35.159219 \r\nL 154.762812 59.319219 \r\nL 125.002813 59.319219 \r\nL 125.002813 35.159219 \r\n\" style=\"fill:#7f7f7f;\"/>\r\n    <path clip-path=\"url(#p961ae49914)\" d=\"M 154.762812 35.159219 \r\nL 184.522813 35.159219 \r\nL 184.522813 59.319219 \r\nL 154.762812 59.319219 \r\nL 154.762812 35.159219 \r\n\" style=\"fill:#c5b0d5;\"/>\r\n    <path clip-path=\"url(#p961ae49914)\" d=\"M 184.522813 35.159219 \r\nL 214.282813 35.159219 \r\nL 214.282813 59.319219 \r\nL 184.522813 59.319219 \r\nL 184.522813 35.159219 \r\n\" style=\"fill:#ff9896;\"/>\r\n    <path clip-path=\"url(#p961ae49914)\" d=\"M 214.282813 35.159219 \r\nL 244.042813 35.159219 \r\nL 244.042813 59.319219 \r\nL 214.282813 59.319219 \r\nL 214.282813 35.159219 \r\n\" style=\"fill:#9467bd;\"/>\r\n    <path clip-path=\"url(#p961ae49914)\" d=\"M 244.042813 35.159219 \r\nL 273.802813 35.159219 \r\nL 273.802813 59.319219 \r\nL 244.042813 59.319219 \r\nL 244.042813 35.159219 \r\n\" style=\"fill:#c5b0d5;\"/>\r\n    <path clip-path=\"url(#p961ae49914)\" d=\"M 273.802813 35.159219 \r\nL 303.562813 35.159219 \r\nL 303.562813 59.319219 \r\nL 273.802813 59.319219 \r\nL 273.802813 35.159219 \r\n\" style=\"fill:#ff9896;\"/>\r\n    <path clip-path=\"url(#p961ae49914)\" d=\"M 303.562813 35.159219 \r\nL 333.322813 35.159219 \r\nL 333.322813 59.319219 \r\nL 303.562813 59.319219 \r\nL 303.562813 35.159219 \r\n\" style=\"fill:#ff9896;\"/>\r\n    <path clip-path=\"url(#p961ae49914)\" d=\"M 65.482813 59.319219 \r\nL 95.242813 59.319219 \r\nL 95.242813 83.479219 \r\nL 65.482813 83.479219 \r\nL 65.482813 59.319219 \r\n\" style=\"fill:#ffbb78;\"/>\r\n    <path clip-path=\"url(#p961ae49914)\" d=\"M 95.242813 59.319219 \r\nL 125.002813 59.319219 \r\nL 125.002813 83.479219 \r\nL 95.242813 83.479219 \r\nL 95.242813 59.319219 \r\n\" style=\"fill:#7f7f7f;\"/>\r\n    <path clip-path=\"url(#p961ae49914)\" d=\"M 125.002813 59.319219 \r\nL 154.762812 59.319219 \r\nL 154.762812 83.479219 \r\nL 125.002813 83.479219 \r\nL 125.002813 59.319219 \r\n\" style=\"fill:#9edae5;\"/>\r\n    <path clip-path=\"url(#p961ae49914)\" d=\"M 154.762812 59.319219 \r\nL 184.522813 59.319219 \r\nL 184.522813 83.479219 \r\nL 154.762812 83.479219 \r\nL 154.762812 59.319219 \r\n\" style=\"fill:#98df8a;\"/>\r\n    <path clip-path=\"url(#p961ae49914)\" d=\"M 184.522813 59.319219 \r\nL 214.282813 59.319219 \r\nL 214.282813 83.479219 \r\nL 184.522813 83.479219 \r\nL 184.522813 59.319219 \r\n\" style=\"fill:#98df8a;\"/>\r\n    <path clip-path=\"url(#p961ae49914)\" d=\"M 214.282813 59.319219 \r\nL 244.042813 59.319219 \r\nL 244.042813 83.479219 \r\nL 214.282813 83.479219 \r\nL 214.282813 59.319219 \r\n\" style=\"fill:#9467bd;\"/>\r\n    <path clip-path=\"url(#p961ae49914)\" d=\"M 244.042813 59.319219 \r\nL 273.802813 59.319219 \r\nL 273.802813 83.479219 \r\nL 244.042813 83.479219 \r\nL 244.042813 59.319219 \r\n\" style=\"fill:#9467bd;\"/>\r\n    <path clip-path=\"url(#p961ae49914)\" d=\"M 273.802813 59.319219 \r\nL 303.562813 59.319219 \r\nL 303.562813 83.479219 \r\nL 273.802813 83.479219 \r\nL 273.802813 59.319219 \r\n\" style=\"fill:#e377c2;\"/>\r\n    <path clip-path=\"url(#p961ae49914)\" d=\"M 303.562813 59.319219 \r\nL 333.322813 59.319219 \r\nL 333.322813 83.479219 \r\nL 303.562813 83.479219 \r\nL 303.562813 59.319219 \r\n\" style=\"fill:#9467bd;\"/>\r\n    <path clip-path=\"url(#p961ae49914)\" d=\"M 65.482813 83.479219 \r\nL 95.242813 83.479219 \r\nL 95.242813 107.639219 \r\nL 65.482813 107.639219 \r\nL 65.482813 83.479219 \r\n\" style=\"fill:#c5b0d5;\"/>\r\n    <path clip-path=\"url(#p961ae49914)\" d=\"M 95.242813 83.479219 \r\nL 125.002813 83.479219 \r\nL 125.002813 107.639219 \r\nL 95.242813 107.639219 \r\nL 95.242813 83.479219 \r\n\" style=\"fill:#c5b0d5;\"/>\r\n    <path clip-path=\"url(#p961ae49914)\" d=\"M 125.002813 83.479219 \r\nL 154.762812 83.479219 \r\nL 154.762812 107.639219 \r\nL 125.002813 107.639219 \r\nL 125.002813 83.479219 \r\n\" style=\"fill:#98df8a;\"/>\r\n    <path clip-path=\"url(#p961ae49914)\" d=\"M 154.762812 83.479219 \r\nL 184.522813 83.479219 \r\nL 184.522813 107.639219 \r\nL 154.762812 107.639219 \r\nL 154.762812 83.479219 \r\n\" style=\"fill:#9edae5;\"/>\r\n    <path clip-path=\"url(#p961ae49914)\" d=\"M 184.522813 83.479219 \r\nL 214.282813 83.479219 \r\nL 214.282813 107.639219 \r\nL 184.522813 107.639219 \r\nL 184.522813 83.479219 \r\n\" style=\"fill:#e377c2;\"/>\r\n    <path clip-path=\"url(#p961ae49914)\" d=\"M 214.282813 83.479219 \r\nL 244.042813 83.479219 \r\nL 244.042813 107.639219 \r\nL 214.282813 107.639219 \r\nL 214.282813 83.479219 \r\n\" style=\"fill:#c5b0d5;\"/>\r\n    <path clip-path=\"url(#p961ae49914)\" d=\"M 244.042813 83.479219 \r\nL 273.802813 83.479219 \r\nL 273.802813 107.639219 \r\nL 244.042813 107.639219 \r\nL 244.042813 83.479219 \r\n\" style=\"fill:#c5b0d5;\"/>\r\n    <path clip-path=\"url(#p961ae49914)\" d=\"M 273.802813 83.479219 \r\nL 303.562813 83.479219 \r\nL 303.562813 107.639219 \r\nL 273.802813 107.639219 \r\nL 273.802813 83.479219 \r\n\" style=\"fill:#ffbb78;\"/>\r\n    <path clip-path=\"url(#p961ae49914)\" d=\"M 303.562813 83.479219 \r\nL 333.322813 83.479219 \r\nL 333.322813 107.639219 \r\nL 303.562813 107.639219 \r\nL 303.562813 83.479219 \r\n\" style=\"fill:#9467bd;\"/>\r\n    <path clip-path=\"url(#p961ae49914)\" d=\"M 65.482813 107.639219 \r\nL 95.242813 107.639219 \r\nL 95.242813 131.799219 \r\nL 65.482813 131.799219 \r\nL 65.482813 107.639219 \r\n\" style=\"fill:#e377c2;\"/>\r\n    <path clip-path=\"url(#p961ae49914)\" d=\"M 95.242813 107.639219 \r\nL 125.002813 107.639219 \r\nL 125.002813 131.799219 \r\nL 95.242813 131.799219 \r\nL 95.242813 107.639219 \r\n\" style=\"fill:#ff9896;\"/>\r\n    <path clip-path=\"url(#p961ae49914)\" d=\"M 125.002813 107.639219 \r\nL 154.762812 107.639219 \r\nL 154.762812 131.799219 \r\nL 125.002813 131.799219 \r\nL 125.002813 107.639219 \r\n\" style=\"fill:#98df8a;\"/>\r\n    <path clip-path=\"url(#p961ae49914)\" d=\"M 154.762812 107.639219 \r\nL 184.522813 107.639219 \r\nL 184.522813 131.799219 \r\nL 154.762812 131.799219 \r\nL 154.762812 107.639219 \r\n\" style=\"fill:#e377c2;\"/>\r\n    <path clip-path=\"url(#p961ae49914)\" d=\"M 184.522813 107.639219 \r\nL 214.282813 107.639219 \r\nL 214.282813 131.799219 \r\nL 184.522813 131.799219 \r\nL 184.522813 107.639219 \r\n\" style=\"fill:#9edae5;\"/>\r\n    <path clip-path=\"url(#p961ae49914)\" d=\"M 214.282813 107.639219 \r\nL 244.042813 107.639219 \r\nL 244.042813 131.799219 \r\nL 214.282813 131.799219 \r\nL 214.282813 107.639219 \r\n\" style=\"fill:#c5b0d5;\"/>\r\n    <path clip-path=\"url(#p961ae49914)\" d=\"M 244.042813 107.639219 \r\nL 273.802813 107.639219 \r\nL 273.802813 131.799219 \r\nL 244.042813 131.799219 \r\nL 244.042813 107.639219 \r\n\" style=\"fill:#c5b0d5;\"/>\r\n    <path clip-path=\"url(#p961ae49914)\" d=\"M 273.802813 107.639219 \r\nL 303.562813 107.639219 \r\nL 303.562813 131.799219 \r\nL 273.802813 131.799219 \r\nL 273.802813 107.639219 \r\n\" style=\"fill:#c5b0d5;\"/>\r\n    <path clip-path=\"url(#p961ae49914)\" d=\"M 303.562813 107.639219 \r\nL 333.322813 107.639219 \r\nL 333.322813 131.799219 \r\nL 303.562813 131.799219 \r\nL 303.562813 107.639219 \r\n\" style=\"fill:#8c564b;\"/>\r\n    <path clip-path=\"url(#p961ae49914)\" d=\"M 65.482813 131.799219 \r\nL 95.242813 131.799219 \r\nL 95.242813 155.959219 \r\nL 65.482813 155.959219 \r\nL 65.482813 131.799219 \r\n\" style=\"fill:#8c564b;\"/>\r\n    <path clip-path=\"url(#p961ae49914)\" d=\"M 95.242813 131.799219 \r\nL 125.002813 131.799219 \r\nL 125.002813 155.959219 \r\nL 95.242813 155.959219 \r\nL 95.242813 131.799219 \r\n\" style=\"fill:#9467bd;\"/>\r\n    <path clip-path=\"url(#p961ae49914)\" d=\"M 125.002813 131.799219 \r\nL 154.762812 131.799219 \r\nL 154.762812 155.959219 \r\nL 125.002813 155.959219 \r\nL 125.002813 131.799219 \r\n\" style=\"fill:#9467bd;\"/>\r\n    <path clip-path=\"url(#p961ae49914)\" d=\"M 154.762812 131.799219 \r\nL 184.522813 131.799219 \r\nL 184.522813 155.959219 \r\nL 154.762812 155.959219 \r\nL 154.762812 131.799219 \r\n\" style=\"fill:#c5b0d5;\"/>\r\n    <path clip-path=\"url(#p961ae49914)\" d=\"M 184.522813 131.799219 \r\nL 214.282813 131.799219 \r\nL 214.282813 155.959219 \r\nL 184.522813 155.959219 \r\nL 184.522813 131.799219 \r\n\" style=\"fill:#c5b0d5;\"/>\r\n    <path clip-path=\"url(#p961ae49914)\" d=\"M 214.282813 131.799219 \r\nL 244.042813 131.799219 \r\nL 244.042813 155.959219 \r\nL 214.282813 155.959219 \r\nL 214.282813 131.799219 \r\n\" style=\"fill:#9edae5;\"/>\r\n    <path clip-path=\"url(#p961ae49914)\" d=\"M 244.042813 131.799219 \r\nL 273.802813 131.799219 \r\nL 273.802813 155.959219 \r\nL 244.042813 155.959219 \r\nL 244.042813 131.799219 \r\n\" style=\"fill:#c5b0d5;\"/>\r\n    <path clip-path=\"url(#p961ae49914)\" d=\"M 273.802813 131.799219 \r\nL 303.562813 131.799219 \r\nL 303.562813 155.959219 \r\nL 273.802813 155.959219 \r\nL 273.802813 131.799219 \r\n\" style=\"fill:#c5b0d5;\"/>\r\n    <path clip-path=\"url(#p961ae49914)\" d=\"M 303.562813 131.799219 \r\nL 333.322813 131.799219 \r\nL 333.322813 155.959219 \r\nL 303.562813 155.959219 \r\nL 303.562813 131.799219 \r\n\" style=\"fill:#c5b0d5;\"/>\r\n    <path clip-path=\"url(#p961ae49914)\" d=\"M 65.482813 155.959219 \r\nL 95.242813 155.959219 \r\nL 95.242813 180.119219 \r\nL 65.482813 180.119219 \r\nL 65.482813 155.959219 \r\n\" style=\"fill:#c5b0d5;\"/>\r\n    <path clip-path=\"url(#p961ae49914)\" d=\"M 95.242813 155.959219 \r\nL 125.002813 155.959219 \r\nL 125.002813 180.119219 \r\nL 95.242813 180.119219 \r\nL 95.242813 155.959219 \r\n\" style=\"fill:#c5b0d5;\"/>\r\n    <path clip-path=\"url(#p961ae49914)\" d=\"M 125.002813 155.959219 \r\nL 154.762812 155.959219 \r\nL 154.762812 180.119219 \r\nL 125.002813 180.119219 \r\nL 125.002813 155.959219 \r\n\" style=\"fill:#9467bd;\"/>\r\n    <path clip-path=\"url(#p961ae49914)\" d=\"M 154.762812 155.959219 \r\nL 184.522813 155.959219 \r\nL 184.522813 180.119219 \r\nL 154.762812 180.119219 \r\nL 154.762812 155.959219 \r\n\" style=\"fill:#c5b0d5;\"/>\r\n    <path clip-path=\"url(#p961ae49914)\" d=\"M 184.522813 155.959219 \r\nL 214.282813 155.959219 \r\nL 214.282813 180.119219 \r\nL 184.522813 180.119219 \r\nL 184.522813 155.959219 \r\n\" style=\"fill:#c5b0d5;\"/>\r\n    <path clip-path=\"url(#p961ae49914)\" d=\"M 214.282813 155.959219 \r\nL 244.042813 155.959219 \r\nL 244.042813 180.119219 \r\nL 214.282813 180.119219 \r\nL 214.282813 155.959219 \r\n\" style=\"fill:#c5b0d5;\"/>\r\n    <path clip-path=\"url(#p961ae49914)\" d=\"M 244.042813 155.959219 \r\nL 273.802813 155.959219 \r\nL 273.802813 180.119219 \r\nL 244.042813 180.119219 \r\nL 244.042813 155.959219 \r\n\" style=\"fill:#9edae5;\"/>\r\n    <path clip-path=\"url(#p961ae49914)\" d=\"M 273.802813 155.959219 \r\nL 303.562813 155.959219 \r\nL 303.562813 180.119219 \r\nL 273.802813 180.119219 \r\nL 273.802813 155.959219 \r\n\" style=\"fill:#9467bd;\"/>\r\n    <path clip-path=\"url(#p961ae49914)\" d=\"M 303.562813 155.959219 \r\nL 333.322813 155.959219 \r\nL 333.322813 180.119219 \r\nL 303.562813 180.119219 \r\nL 303.562813 155.959219 \r\n\" style=\"fill:#9467bd;\"/>\r\n    <path clip-path=\"url(#p961ae49914)\" d=\"M 65.482813 180.119219 \r\nL 95.242813 180.119219 \r\nL 95.242813 204.279219 \r\nL 65.482813 204.279219 \r\nL 65.482813 180.119219 \r\n\" style=\"fill:#8c564b;\"/>\r\n    <path clip-path=\"url(#p961ae49914)\" d=\"M 95.242813 180.119219 \r\nL 125.002813 180.119219 \r\nL 125.002813 204.279219 \r\nL 95.242813 204.279219 \r\nL 95.242813 180.119219 \r\n\" style=\"fill:#ff9896;\"/>\r\n    <path clip-path=\"url(#p961ae49914)\" d=\"M 125.002813 180.119219 \r\nL 154.762812 180.119219 \r\nL 154.762812 204.279219 \r\nL 125.002813 204.279219 \r\nL 125.002813 180.119219 \r\n\" style=\"fill:#e377c2;\"/>\r\n    <path clip-path=\"url(#p961ae49914)\" d=\"M 154.762812 180.119219 \r\nL 184.522813 180.119219 \r\nL 184.522813 204.279219 \r\nL 154.762812 204.279219 \r\nL 154.762812 180.119219 \r\n\" style=\"fill:#ffbb78;\"/>\r\n    <path clip-path=\"url(#p961ae49914)\" d=\"M 184.522813 180.119219 \r\nL 214.282813 180.119219 \r\nL 214.282813 204.279219 \r\nL 184.522813 204.279219 \r\nL 184.522813 180.119219 \r\n\" style=\"fill:#c5b0d5;\"/>\r\n    <path clip-path=\"url(#p961ae49914)\" d=\"M 214.282813 180.119219 \r\nL 244.042813 180.119219 \r\nL 244.042813 204.279219 \r\nL 214.282813 204.279219 \r\nL 214.282813 180.119219 \r\n\" style=\"fill:#c5b0d5;\"/>\r\n    <path clip-path=\"url(#p961ae49914)\" d=\"M 244.042813 180.119219 \r\nL 273.802813 180.119219 \r\nL 273.802813 204.279219 \r\nL 244.042813 204.279219 \r\nL 244.042813 180.119219 \r\n\" style=\"fill:#9467bd;\"/>\r\n    <path clip-path=\"url(#p961ae49914)\" d=\"M 273.802813 180.119219 \r\nL 303.562813 180.119219 \r\nL 303.562813 204.279219 \r\nL 273.802813 204.279219 \r\nL 273.802813 180.119219 \r\n\" style=\"fill:#9edae5;\"/>\r\n    <path clip-path=\"url(#p961ae49914)\" d=\"M 303.562813 180.119219 \r\nL 333.322813 180.119219 \r\nL 333.322813 204.279219 \r\nL 303.562813 204.279219 \r\nL 303.562813 180.119219 \r\n\" style=\"fill:#8c564b;\"/>\r\n    <path clip-path=\"url(#p961ae49914)\" d=\"M 65.482813 204.279219 \r\nL 95.242813 204.279219 \r\nL 95.242813 228.439219 \r\nL 65.482813 228.439219 \r\nL 65.482813 204.279219 \r\n\" style=\"fill:#c49c94;\"/>\r\n    <path clip-path=\"url(#p961ae49914)\" d=\"M 95.242813 204.279219 \r\nL 125.002813 204.279219 \r\nL 125.002813 228.439219 \r\nL 95.242813 228.439219 \r\nL 95.242813 204.279219 \r\n\" style=\"fill:#ff9896;\"/>\r\n    <path clip-path=\"url(#p961ae49914)\" d=\"M 125.002813 204.279219 \r\nL 154.762812 204.279219 \r\nL 154.762812 228.439219 \r\nL 125.002813 228.439219 \r\nL 125.002813 204.279219 \r\n\" style=\"fill:#9467bd;\"/>\r\n    <path clip-path=\"url(#p961ae49914)\" d=\"M 154.762812 204.279219 \r\nL 184.522813 204.279219 \r\nL 184.522813 228.439219 \r\nL 154.762812 228.439219 \r\nL 154.762812 204.279219 \r\n\" style=\"fill:#9467bd;\"/>\r\n    <path clip-path=\"url(#p961ae49914)\" d=\"M 184.522813 204.279219 \r\nL 214.282813 204.279219 \r\nL 214.282813 228.439219 \r\nL 184.522813 228.439219 \r\nL 184.522813 204.279219 \r\n\" style=\"fill:#8c564b;\"/>\r\n    <path clip-path=\"url(#p961ae49914)\" d=\"M 214.282813 204.279219 \r\nL 244.042813 204.279219 \r\nL 244.042813 228.439219 \r\nL 214.282813 228.439219 \r\nL 214.282813 204.279219 \r\n\" style=\"fill:#c5b0d5;\"/>\r\n    <path clip-path=\"url(#p961ae49914)\" d=\"M 244.042813 204.279219 \r\nL 273.802813 204.279219 \r\nL 273.802813 228.439219 \r\nL 244.042813 228.439219 \r\nL 244.042813 204.279219 \r\n\" style=\"fill:#9467bd;\"/>\r\n    <path clip-path=\"url(#p961ae49914)\" d=\"M 273.802813 204.279219 \r\nL 303.562813 204.279219 \r\nL 303.562813 228.439219 \r\nL 273.802813 228.439219 \r\nL 273.802813 204.279219 \r\n\" style=\"fill:#8c564b;\"/>\r\n    <path clip-path=\"url(#p961ae49914)\" d=\"M 303.562813 204.279219 \r\nL 333.322813 204.279219 \r\nL 333.322813 228.439219 \r\nL 303.562813 228.439219 \r\nL 303.562813 204.279219 \r\n\" style=\"fill:#9edae5;\"/>\r\n   </g>\r\n   <g id=\"matplotlib.axis_1\">\r\n    <g id=\"xtick_1\">\r\n     <g id=\"line2d_1\">\r\n      <defs>\r\n       <path d=\"M 0 0 \r\nL 0 3.5 \r\n\" id=\"m4da3b417a2\" style=\"stroke:#000000;stroke-width:0.8;\"/>\r\n      </defs>\r\n      <g>\r\n       <use style=\"stroke:#000000;stroke-width:0.8;\" x=\"80.362813\" xlink:href=\"#m4da3b417a2\" y=\"228.439219\"/>\r\n      </g>\r\n     </g>\r\n     <g id=\"text_1\">\r\n      <!-- Price -->\r\n      <g transform=\"translate(83.122188 259.834531)rotate(-90)scale(0.1 -0.1)\">\r\n       <defs>\r\n        <path d=\"M 1259 4147 \r\nL 1259 2394 \r\nL 2053 2394 \r\nQ 2494 2394 2734 2622 \r\nQ 2975 2850 2975 3272 \r\nQ 2975 3691 2734 3919 \r\nQ 2494 4147 2053 4147 \r\nL 1259 4147 \r\nz\r\nM 628 4666 \r\nL 2053 4666 \r\nQ 2838 4666 3239 4311 \r\nQ 3641 3956 3641 3272 \r\nQ 3641 2581 3239 2228 \r\nQ 2838 1875 2053 1875 \r\nL 1259 1875 \r\nL 1259 0 \r\nL 628 0 \r\nL 628 4666 \r\nz\r\n\" id=\"DejaVuSans-50\" transform=\"scale(0.015625)\"/>\r\n        <path d=\"M 2631 2963 \r\nQ 2534 3019 2420 3045 \r\nQ 2306 3072 2169 3072 \r\nQ 1681 3072 1420 2755 \r\nQ 1159 2438 1159 1844 \r\nL 1159 0 \r\nL 581 0 \r\nL 581 3500 \r\nL 1159 3500 \r\nL 1159 2956 \r\nQ 1341 3275 1631 3429 \r\nQ 1922 3584 2338 3584 \r\nQ 2397 3584 2469 3576 \r\nQ 2541 3569 2628 3553 \r\nL 2631 2963 \r\nz\r\n\" id=\"DejaVuSans-72\" transform=\"scale(0.015625)\"/>\r\n        <path d=\"M 603 3500 \r\nL 1178 3500 \r\nL 1178 0 \r\nL 603 0 \r\nL 603 3500 \r\nz\r\nM 603 4863 \r\nL 1178 4863 \r\nL 1178 4134 \r\nL 603 4134 \r\nL 603 4863 \r\nz\r\n\" id=\"DejaVuSans-69\" transform=\"scale(0.015625)\"/>\r\n        <path d=\"M 3122 3366 \r\nL 3122 2828 \r\nQ 2878 2963 2633 3030 \r\nQ 2388 3097 2138 3097 \r\nQ 1578 3097 1268 2742 \r\nQ 959 2388 959 1747 \r\nQ 959 1106 1268 751 \r\nQ 1578 397 2138 397 \r\nQ 2388 397 2633 464 \r\nQ 2878 531 3122 666 \r\nL 3122 134 \r\nQ 2881 22 2623 -34 \r\nQ 2366 -91 2075 -91 \r\nQ 1284 -91 818 406 \r\nQ 353 903 353 1747 \r\nQ 353 2603 823 3093 \r\nQ 1294 3584 2113 3584 \r\nQ 2378 3584 2631 3529 \r\nQ 2884 3475 3122 3366 \r\nz\r\n\" id=\"DejaVuSans-63\" transform=\"scale(0.015625)\"/>\r\n        <path d=\"M 3597 1894 \r\nL 3597 1613 \r\nL 953 1613 \r\nQ 991 1019 1311 708 \r\nQ 1631 397 2203 397 \r\nQ 2534 397 2845 478 \r\nQ 3156 559 3463 722 \r\nL 3463 178 \r\nQ 3153 47 2828 -22 \r\nQ 2503 -91 2169 -91 \r\nQ 1331 -91 842 396 \r\nQ 353 884 353 1716 \r\nQ 353 2575 817 3079 \r\nQ 1281 3584 2069 3584 \r\nQ 2775 3584 3186 3129 \r\nQ 3597 2675 3597 1894 \r\nz\r\nM 3022 2063 \r\nQ 3016 2534 2758 2815 \r\nQ 2500 3097 2075 3097 \r\nQ 1594 3097 1305 2825 \r\nQ 1016 2553 972 2059 \r\nL 3022 2063 \r\nz\r\n\" id=\"DejaVuSans-65\" transform=\"scale(0.015625)\"/>\r\n       </defs>\r\n       <use xlink:href=\"#DejaVuSans-50\"/>\r\n       <use x=\"58.552734\" xlink:href=\"#DejaVuSans-72\"/>\r\n       <use x=\"99.666016\" xlink:href=\"#DejaVuSans-69\"/>\r\n       <use x=\"127.449219\" xlink:href=\"#DejaVuSans-63\"/>\r\n       <use x=\"182.429688\" xlink:href=\"#DejaVuSans-65\"/>\r\n      </g>\r\n     </g>\r\n    </g>\r\n    <g id=\"xtick_2\">\r\n     <g id=\"line2d_2\">\r\n      <g>\r\n       <use style=\"stroke:#000000;stroke-width:0.8;\" x=\"110.122813\" xlink:href=\"#m4da3b417a2\" y=\"228.439219\"/>\r\n      </g>\r\n     </g>\r\n     <g id=\"text_2\">\r\n      <!-- Age -->\r\n      <g transform=\"translate(112.882188 254.781406)rotate(-90)scale(0.1 -0.1)\">\r\n       <defs>\r\n        <path d=\"M 2188 4044 \r\nL 1331 1722 \r\nL 3047 1722 \r\nL 2188 4044 \r\nz\r\nM 1831 4666 \r\nL 2547 4666 \r\nL 4325 0 \r\nL 3669 0 \r\nL 3244 1197 \r\nL 1141 1197 \r\nL 716 0 \r\nL 50 0 \r\nL 1831 4666 \r\nz\r\n\" id=\"DejaVuSans-41\" transform=\"scale(0.015625)\"/>\r\n        <path d=\"M 2906 1791 \r\nQ 2906 2416 2648 2759 \r\nQ 2391 3103 1925 3103 \r\nQ 1463 3103 1205 2759 \r\nQ 947 2416 947 1791 \r\nQ 947 1169 1205 825 \r\nQ 1463 481 1925 481 \r\nQ 2391 481 2648 825 \r\nQ 2906 1169 2906 1791 \r\nz\r\nM 3481 434 \r\nQ 3481 -459 3084 -895 \r\nQ 2688 -1331 1869 -1331 \r\nQ 1566 -1331 1297 -1286 \r\nQ 1028 -1241 775 -1147 \r\nL 775 -588 \r\nQ 1028 -725 1275 -790 \r\nQ 1522 -856 1778 -856 \r\nQ 2344 -856 2625 -561 \r\nQ 2906 -266 2906 331 \r\nL 2906 616 \r\nQ 2728 306 2450 153 \r\nQ 2172 0 1784 0 \r\nQ 1141 0 747 490 \r\nQ 353 981 353 1791 \r\nQ 353 2603 747 3093 \r\nQ 1141 3584 1784 3584 \r\nQ 2172 3584 2450 3431 \r\nQ 2728 3278 2906 2969 \r\nL 2906 3500 \r\nL 3481 3500 \r\nL 3481 434 \r\nz\r\n\" id=\"DejaVuSans-67\" transform=\"scale(0.015625)\"/>\r\n       </defs>\r\n       <use xlink:href=\"#DejaVuSans-41\"/>\r\n       <use x=\"68.408203\" xlink:href=\"#DejaVuSans-67\"/>\r\n       <use x=\"131.884766\" xlink:href=\"#DejaVuSans-65\"/>\r\n      </g>\r\n     </g>\r\n    </g>\r\n    <g id=\"xtick_3\">\r\n     <g id=\"line2d_3\">\r\n      <g>\r\n       <use style=\"stroke:#000000;stroke-width:0.8;\" x=\"139.882812\" xlink:href=\"#m4da3b417a2\" y=\"228.439219\"/>\r\n      </g>\r\n     </g>\r\n     <g id=\"text_3\">\r\n      <!-- KM -->\r\n      <g transform=\"translate(142.642188 250.625156)rotate(-90)scale(0.1 -0.1)\">\r\n       <defs>\r\n        <path d=\"M 628 4666 \r\nL 1259 4666 \r\nL 1259 2694 \r\nL 3353 4666 \r\nL 4166 4666 \r\nL 1850 2491 \r\nL 4331 0 \r\nL 3500 0 \r\nL 1259 2247 \r\nL 1259 0 \r\nL 628 0 \r\nL 628 4666 \r\nz\r\n\" id=\"DejaVuSans-4b\" transform=\"scale(0.015625)\"/>\r\n        <path d=\"M 628 4666 \r\nL 1569 4666 \r\nL 2759 1491 \r\nL 3956 4666 \r\nL 4897 4666 \r\nL 4897 0 \r\nL 4281 0 \r\nL 4281 4097 \r\nL 3078 897 \r\nL 2444 897 \r\nL 1241 4097 \r\nL 1241 0 \r\nL 628 0 \r\nL 628 4666 \r\nz\r\n\" id=\"DejaVuSans-4d\" transform=\"scale(0.015625)\"/>\r\n       </defs>\r\n       <use xlink:href=\"#DejaVuSans-4b\"/>\r\n       <use x=\"65.576172\" xlink:href=\"#DejaVuSans-4d\"/>\r\n      </g>\r\n     </g>\r\n    </g>\r\n    <g id=\"xtick_4\">\r\n     <g id=\"line2d_4\">\r\n      <g>\r\n       <use style=\"stroke:#000000;stroke-width:0.8;\" x=\"169.642813\" xlink:href=\"#m4da3b417a2\" y=\"228.439219\"/>\r\n      </g>\r\n     </g>\r\n     <g id=\"text_4\">\r\n      <!-- FuelType -->\r\n      <g transform=\"translate(172.402188 278.875156)rotate(-90)scale(0.1 -0.1)\">\r\n       <defs>\r\n        <path d=\"M 628 4666 \r\nL 3309 4666 \r\nL 3309 4134 \r\nL 1259 4134 \r\nL 1259 2759 \r\nL 3109 2759 \r\nL 3109 2228 \r\nL 1259 2228 \r\nL 1259 0 \r\nL 628 0 \r\nL 628 4666 \r\nz\r\n\" id=\"DejaVuSans-46\" transform=\"scale(0.015625)\"/>\r\n        <path d=\"M 544 1381 \r\nL 544 3500 \r\nL 1119 3500 \r\nL 1119 1403 \r\nQ 1119 906 1312 657 \r\nQ 1506 409 1894 409 \r\nQ 2359 409 2629 706 \r\nQ 2900 1003 2900 1516 \r\nL 2900 3500 \r\nL 3475 3500 \r\nL 3475 0 \r\nL 2900 0 \r\nL 2900 538 \r\nQ 2691 219 2414 64 \r\nQ 2138 -91 1772 -91 \r\nQ 1169 -91 856 284 \r\nQ 544 659 544 1381 \r\nz\r\nM 1991 3584 \r\nL 1991 3584 \r\nz\r\n\" id=\"DejaVuSans-75\" transform=\"scale(0.015625)\"/>\r\n        <path d=\"M 603 4863 \r\nL 1178 4863 \r\nL 1178 0 \r\nL 603 0 \r\nL 603 4863 \r\nz\r\n\" id=\"DejaVuSans-6c\" transform=\"scale(0.015625)\"/>\r\n        <path d=\"M -19 4666 \r\nL 3928 4666 \r\nL 3928 4134 \r\nL 2272 4134 \r\nL 2272 0 \r\nL 1638 0 \r\nL 1638 4134 \r\nL -19 4134 \r\nL -19 4666 \r\nz\r\n\" id=\"DejaVuSans-54\" transform=\"scale(0.015625)\"/>\r\n        <path d=\"M 2059 -325 \r\nQ 1816 -950 1584 -1140 \r\nQ 1353 -1331 966 -1331 \r\nL 506 -1331 \r\nL 506 -850 \r\nL 844 -850 \r\nQ 1081 -850 1212 -737 \r\nQ 1344 -625 1503 -206 \r\nL 1606 56 \r\nL 191 3500 \r\nL 800 3500 \r\nL 1894 763 \r\nL 2988 3500 \r\nL 3597 3500 \r\nL 2059 -325 \r\nz\r\n\" id=\"DejaVuSans-79\" transform=\"scale(0.015625)\"/>\r\n        <path d=\"M 1159 525 \r\nL 1159 -1331 \r\nL 581 -1331 \r\nL 581 3500 \r\nL 1159 3500 \r\nL 1159 2969 \r\nQ 1341 3281 1617 3432 \r\nQ 1894 3584 2278 3584 \r\nQ 2916 3584 3314 3078 \r\nQ 3713 2572 3713 1747 \r\nQ 3713 922 3314 415 \r\nQ 2916 -91 2278 -91 \r\nQ 1894 -91 1617 61 \r\nQ 1341 213 1159 525 \r\nz\r\nM 3116 1747 \r\nQ 3116 2381 2855 2742 \r\nQ 2594 3103 2138 3103 \r\nQ 1681 3103 1420 2742 \r\nQ 1159 2381 1159 1747 \r\nQ 1159 1113 1420 752 \r\nQ 1681 391 2138 391 \r\nQ 2594 391 2855 752 \r\nQ 3116 1113 3116 1747 \r\nz\r\n\" id=\"DejaVuSans-70\" transform=\"scale(0.015625)\"/>\r\n       </defs>\r\n       <use xlink:href=\"#DejaVuSans-46\"/>\r\n       <use x=\"52.019531\" xlink:href=\"#DejaVuSans-75\"/>\r\n       <use x=\"115.398438\" xlink:href=\"#DejaVuSans-65\"/>\r\n       <use x=\"176.921875\" xlink:href=\"#DejaVuSans-6c\"/>\r\n       <use x=\"204.705078\" xlink:href=\"#DejaVuSans-54\"/>\r\n       <use x=\"250.164062\" xlink:href=\"#DejaVuSans-79\"/>\r\n       <use x=\"309.34375\" xlink:href=\"#DejaVuSans-70\"/>\r\n       <use x=\"372.820312\" xlink:href=\"#DejaVuSans-65\"/>\r\n      </g>\r\n     </g>\r\n    </g>\r\n    <g id=\"xtick_5\">\r\n     <g id=\"line2d_5\">\r\n      <g>\r\n       <use style=\"stroke:#000000;stroke-width:0.8;\" x=\"199.402813\" xlink:href=\"#m4da3b417a2\" y=\"228.439219\"/>\r\n      </g>\r\n     </g>\r\n     <g id=\"text_5\">\r\n      <!-- HP -->\r\n      <g transform=\"translate(202.162188 248.989219)rotate(-90)scale(0.1 -0.1)\">\r\n       <defs>\r\n        <path d=\"M 628 4666 \r\nL 1259 4666 \r\nL 1259 2753 \r\nL 3553 2753 \r\nL 3553 4666 \r\nL 4184 4666 \r\nL 4184 0 \r\nL 3553 0 \r\nL 3553 2222 \r\nL 1259 2222 \r\nL 1259 0 \r\nL 628 0 \r\nL 628 4666 \r\nz\r\n\" id=\"DejaVuSans-48\" transform=\"scale(0.015625)\"/>\r\n       </defs>\r\n       <use xlink:href=\"#DejaVuSans-48\"/>\r\n       <use x=\"75.195312\" xlink:href=\"#DejaVuSans-50\"/>\r\n      </g>\r\n     </g>\r\n    </g>\r\n    <g id=\"xtick_6\">\r\n     <g id=\"line2d_6\">\r\n      <g>\r\n       <use style=\"stroke:#000000;stroke-width:0.8;\" x=\"229.162813\" xlink:href=\"#m4da3b417a2\" y=\"228.439219\"/>\r\n      </g>\r\n     </g>\r\n     <g id=\"text_6\">\r\n      <!-- MetColor -->\r\n      <g transform=\"translate(231.922188 280.250156)rotate(-90)scale(0.1 -0.1)\">\r\n       <defs>\r\n        <path d=\"M 1172 4494 \r\nL 1172 3500 \r\nL 2356 3500 \r\nL 2356 3053 \r\nL 1172 3053 \r\nL 1172 1153 \r\nQ 1172 725 1289 603 \r\nQ 1406 481 1766 481 \r\nL 2356 481 \r\nL 2356 0 \r\nL 1766 0 \r\nQ 1100 0 847 248 \r\nQ 594 497 594 1153 \r\nL 594 3053 \r\nL 172 3053 \r\nL 172 3500 \r\nL 594 3500 \r\nL 594 4494 \r\nL 1172 4494 \r\nz\r\n\" id=\"DejaVuSans-74\" transform=\"scale(0.015625)\"/>\r\n        <path d=\"M 4122 4306 \r\nL 4122 3641 \r\nQ 3803 3938 3442 4084 \r\nQ 3081 4231 2675 4231 \r\nQ 1875 4231 1450 3742 \r\nQ 1025 3253 1025 2328 \r\nQ 1025 1406 1450 917 \r\nQ 1875 428 2675 428 \r\nQ 3081 428 3442 575 \r\nQ 3803 722 4122 1019 \r\nL 4122 359 \r\nQ 3791 134 3420 21 \r\nQ 3050 -91 2638 -91 \r\nQ 1578 -91 968 557 \r\nQ 359 1206 359 2328 \r\nQ 359 3453 968 4101 \r\nQ 1578 4750 2638 4750 \r\nQ 3056 4750 3426 4639 \r\nQ 3797 4528 4122 4306 \r\nz\r\n\" id=\"DejaVuSans-43\" transform=\"scale(0.015625)\"/>\r\n        <path d=\"M 1959 3097 \r\nQ 1497 3097 1228 2736 \r\nQ 959 2375 959 1747 \r\nQ 959 1119 1226 758 \r\nQ 1494 397 1959 397 \r\nQ 2419 397 2687 759 \r\nQ 2956 1122 2956 1747 \r\nQ 2956 2369 2687 2733 \r\nQ 2419 3097 1959 3097 \r\nz\r\nM 1959 3584 \r\nQ 2709 3584 3137 3096 \r\nQ 3566 2609 3566 1747 \r\nQ 3566 888 3137 398 \r\nQ 2709 -91 1959 -91 \r\nQ 1206 -91 779 398 \r\nQ 353 888 353 1747 \r\nQ 353 2609 779 3096 \r\nQ 1206 3584 1959 3584 \r\nz\r\n\" id=\"DejaVuSans-6f\" transform=\"scale(0.015625)\"/>\r\n       </defs>\r\n       <use xlink:href=\"#DejaVuSans-4d\"/>\r\n       <use x=\"86.279297\" xlink:href=\"#DejaVuSans-65\"/>\r\n       <use x=\"147.802734\" xlink:href=\"#DejaVuSans-74\"/>\r\n       <use x=\"187.011719\" xlink:href=\"#DejaVuSans-43\"/>\r\n       <use x=\"256.835938\" xlink:href=\"#DejaVuSans-6f\"/>\r\n       <use x=\"318.017578\" xlink:href=\"#DejaVuSans-6c\"/>\r\n       <use x=\"345.800781\" xlink:href=\"#DejaVuSans-6f\"/>\r\n       <use x=\"406.982422\" xlink:href=\"#DejaVuSans-72\"/>\r\n      </g>\r\n     </g>\r\n    </g>\r\n    <g id=\"xtick_7\">\r\n     <g id=\"line2d_7\">\r\n      <g>\r\n       <use style=\"stroke:#000000;stroke-width:0.8;\" x=\"258.922813\" xlink:href=\"#m4da3b417a2\" y=\"228.439219\"/>\r\n      </g>\r\n     </g>\r\n     <g id=\"text_7\">\r\n      <!-- Automatic -->\r\n      <g transform=\"translate(261.682187 286.722031)rotate(-90)scale(0.1 -0.1)\">\r\n       <defs>\r\n        <path d=\"M 3328 2828 \r\nQ 3544 3216 3844 3400 \r\nQ 4144 3584 4550 3584 \r\nQ 5097 3584 5394 3201 \r\nQ 5691 2819 5691 2113 \r\nL 5691 0 \r\nL 5113 0 \r\nL 5113 2094 \r\nQ 5113 2597 4934 2840 \r\nQ 4756 3084 4391 3084 \r\nQ 3944 3084 3684 2787 \r\nQ 3425 2491 3425 1978 \r\nL 3425 0 \r\nL 2847 0 \r\nL 2847 2094 \r\nQ 2847 2600 2669 2842 \r\nQ 2491 3084 2119 3084 \r\nQ 1678 3084 1418 2786 \r\nQ 1159 2488 1159 1978 \r\nL 1159 0 \r\nL 581 0 \r\nL 581 3500 \r\nL 1159 3500 \r\nL 1159 2956 \r\nQ 1356 3278 1631 3431 \r\nQ 1906 3584 2284 3584 \r\nQ 2666 3584 2933 3390 \r\nQ 3200 3197 3328 2828 \r\nz\r\n\" id=\"DejaVuSans-6d\" transform=\"scale(0.015625)\"/>\r\n        <path d=\"M 2194 1759 \r\nQ 1497 1759 1228 1600 \r\nQ 959 1441 959 1056 \r\nQ 959 750 1161 570 \r\nQ 1363 391 1709 391 \r\nQ 2188 391 2477 730 \r\nQ 2766 1069 2766 1631 \r\nL 2766 1759 \r\nL 2194 1759 \r\nz\r\nM 3341 1997 \r\nL 3341 0 \r\nL 2766 0 \r\nL 2766 531 \r\nQ 2569 213 2275 61 \r\nQ 1981 -91 1556 -91 \r\nQ 1019 -91 701 211 \r\nQ 384 513 384 1019 \r\nQ 384 1609 779 1909 \r\nQ 1175 2209 1959 2209 \r\nL 2766 2209 \r\nL 2766 2266 \r\nQ 2766 2663 2505 2880 \r\nQ 2244 3097 1772 3097 \r\nQ 1472 3097 1187 3025 \r\nQ 903 2953 641 2809 \r\nL 641 3341 \r\nQ 956 3463 1253 3523 \r\nQ 1550 3584 1831 3584 \r\nQ 2591 3584 2966 3190 \r\nQ 3341 2797 3341 1997 \r\nz\r\n\" id=\"DejaVuSans-61\" transform=\"scale(0.015625)\"/>\r\n       </defs>\r\n       <use xlink:href=\"#DejaVuSans-41\"/>\r\n       <use x=\"68.408203\" xlink:href=\"#DejaVuSans-75\"/>\r\n       <use x=\"131.787109\" xlink:href=\"#DejaVuSans-74\"/>\r\n       <use x=\"170.996094\" xlink:href=\"#DejaVuSans-6f\"/>\r\n       <use x=\"232.177734\" xlink:href=\"#DejaVuSans-6d\"/>\r\n       <use x=\"329.589844\" xlink:href=\"#DejaVuSans-61\"/>\r\n       <use x=\"390.869141\" xlink:href=\"#DejaVuSans-74\"/>\r\n       <use x=\"430.078125\" xlink:href=\"#DejaVuSans-69\"/>\r\n       <use x=\"457.861328\" xlink:href=\"#DejaVuSans-63\"/>\r\n      </g>\r\n     </g>\r\n    </g>\r\n    <g id=\"xtick_8\">\r\n     <g id=\"line2d_8\">\r\n      <g>\r\n       <use style=\"stroke:#000000;stroke-width:0.8;\" x=\"288.682813\" xlink:href=\"#m4da3b417a2\" y=\"228.439219\"/>\r\n      </g>\r\n     </g>\r\n     <g id=\"text_8\">\r\n      <!-- CC -->\r\n      <g transform=\"translate(291.442187 249.404844)rotate(-90)scale(0.1 -0.1)\">\r\n       <use xlink:href=\"#DejaVuSans-43\"/>\r\n       <use x=\"69.824219\" xlink:href=\"#DejaVuSans-43\"/>\r\n      </g>\r\n     </g>\r\n    </g>\r\n    <g id=\"xtick_9\">\r\n     <g id=\"line2d_9\">\r\n      <g>\r\n       <use style=\"stroke:#000000;stroke-width:0.8;\" x=\"318.442813\" xlink:href=\"#m4da3b417a2\" y=\"228.439219\"/>\r\n      </g>\r\n     </g>\r\n     <g id=\"text_9\">\r\n      <!-- Doors -->\r\n      <g transform=\"translate(321.202187 264.697031)rotate(-90)scale(0.1 -0.1)\">\r\n       <defs>\r\n        <path d=\"M 1259 4147 \r\nL 1259 519 \r\nL 2022 519 \r\nQ 2988 519 3436 956 \r\nQ 3884 1394 3884 2338 \r\nQ 3884 3275 3436 3711 \r\nQ 2988 4147 2022 4147 \r\nL 1259 4147 \r\nz\r\nM 628 4666 \r\nL 1925 4666 \r\nQ 3281 4666 3915 4102 \r\nQ 4550 3538 4550 2338 \r\nQ 4550 1131 3912 565 \r\nQ 3275 0 1925 0 \r\nL 628 0 \r\nL 628 4666 \r\nz\r\n\" id=\"DejaVuSans-44\" transform=\"scale(0.015625)\"/>\r\n        <path d=\"M 2834 3397 \r\nL 2834 2853 \r\nQ 2591 2978 2328 3040 \r\nQ 2066 3103 1784 3103 \r\nQ 1356 3103 1142 2972 \r\nQ 928 2841 928 2578 \r\nQ 928 2378 1081 2264 \r\nQ 1234 2150 1697 2047 \r\nL 1894 2003 \r\nQ 2506 1872 2764 1633 \r\nQ 3022 1394 3022 966 \r\nQ 3022 478 2636 193 \r\nQ 2250 -91 1575 -91 \r\nQ 1294 -91 989 -36 \r\nQ 684 19 347 128 \r\nL 347 722 \r\nQ 666 556 975 473 \r\nQ 1284 391 1588 391 \r\nQ 1994 391 2212 530 \r\nQ 2431 669 2431 922 \r\nQ 2431 1156 2273 1281 \r\nQ 2116 1406 1581 1522 \r\nL 1381 1569 \r\nQ 847 1681 609 1914 \r\nQ 372 2147 372 2553 \r\nQ 372 3047 722 3315 \r\nQ 1072 3584 1716 3584 \r\nQ 2034 3584 2315 3537 \r\nQ 2597 3491 2834 3397 \r\nz\r\n\" id=\"DejaVuSans-73\" transform=\"scale(0.015625)\"/>\r\n       </defs>\r\n       <use xlink:href=\"#DejaVuSans-44\"/>\r\n       <use x=\"77.001953\" xlink:href=\"#DejaVuSans-6f\"/>\r\n       <use x=\"138.183594\" xlink:href=\"#DejaVuSans-6f\"/>\r\n       <use x=\"199.365234\" xlink:href=\"#DejaVuSans-72\"/>\r\n       <use x=\"240.478516\" xlink:href=\"#DejaVuSans-73\"/>\r\n      </g>\r\n     </g>\r\n    </g>\r\n   </g>\r\n   <g id=\"matplotlib.axis_2\">\r\n    <g id=\"ytick_1\">\r\n     <g id=\"line2d_10\">\r\n      <defs>\r\n       <path d=\"M 0 0 \r\nL -3.5 0 \r\n\" id=\"md52a81bd58\" style=\"stroke:#000000;stroke-width:0.8;\"/>\r\n      </defs>\r\n      <g>\r\n       <use style=\"stroke:#000000;stroke-width:0.8;\" x=\"65.482813\" xlink:href=\"#md52a81bd58\" y=\"23.079219\"/>\r\n      </g>\r\n     </g>\r\n     <g id=\"text_10\">\r\n      <!-- Price -->\r\n      <g transform=\"translate(34.0875 25.838594)scale(0.1 -0.1)\">\r\n       <use xlink:href=\"#DejaVuSans-50\"/>\r\n       <use x=\"58.552734\" xlink:href=\"#DejaVuSans-72\"/>\r\n       <use x=\"99.666016\" xlink:href=\"#DejaVuSans-69\"/>\r\n       <use x=\"127.449219\" xlink:href=\"#DejaVuSans-63\"/>\r\n       <use x=\"182.429688\" xlink:href=\"#DejaVuSans-65\"/>\r\n      </g>\r\n     </g>\r\n    </g>\r\n    <g id=\"ytick_2\">\r\n     <g id=\"line2d_11\">\r\n      <g>\r\n       <use style=\"stroke:#000000;stroke-width:0.8;\" x=\"65.482813\" xlink:href=\"#md52a81bd58\" y=\"47.239219\"/>\r\n      </g>\r\n     </g>\r\n     <g id=\"text_11\">\r\n      <!-- Age -->\r\n      <g transform=\"translate(39.140625 49.998594)scale(0.1 -0.1)\">\r\n       <use xlink:href=\"#DejaVuSans-41\"/>\r\n       <use x=\"68.408203\" xlink:href=\"#DejaVuSans-67\"/>\r\n       <use x=\"131.884766\" xlink:href=\"#DejaVuSans-65\"/>\r\n      </g>\r\n     </g>\r\n    </g>\r\n    <g id=\"ytick_3\">\r\n     <g id=\"line2d_12\">\r\n      <g>\r\n       <use style=\"stroke:#000000;stroke-width:0.8;\" x=\"65.482813\" xlink:href=\"#md52a81bd58\" y=\"71.399219\"/>\r\n      </g>\r\n     </g>\r\n     <g id=\"text_12\">\r\n      <!-- KM -->\r\n      <g transform=\"translate(43.296875 74.158594)scale(0.1 -0.1)\">\r\n       <use xlink:href=\"#DejaVuSans-4b\"/>\r\n       <use x=\"65.576172\" xlink:href=\"#DejaVuSans-4d\"/>\r\n      </g>\r\n     </g>\r\n    </g>\r\n    <g id=\"ytick_4\">\r\n     <g id=\"line2d_13\">\r\n      <g>\r\n       <use style=\"stroke:#000000;stroke-width:0.8;\" x=\"65.482813\" xlink:href=\"#md52a81bd58\" y=\"95.559219\"/>\r\n      </g>\r\n     </g>\r\n     <g id=\"text_13\">\r\n      <!-- FuelType -->\r\n      <g transform=\"translate(15.046875 98.318594)scale(0.1 -0.1)\">\r\n       <use xlink:href=\"#DejaVuSans-46\"/>\r\n       <use x=\"52.019531\" xlink:href=\"#DejaVuSans-75\"/>\r\n       <use x=\"115.398438\" xlink:href=\"#DejaVuSans-65\"/>\r\n       <use x=\"176.921875\" xlink:href=\"#DejaVuSans-6c\"/>\r\n       <use x=\"204.705078\" xlink:href=\"#DejaVuSans-54\"/>\r\n       <use x=\"250.164062\" xlink:href=\"#DejaVuSans-79\"/>\r\n       <use x=\"309.34375\" xlink:href=\"#DejaVuSans-70\"/>\r\n       <use x=\"372.820312\" xlink:href=\"#DejaVuSans-65\"/>\r\n      </g>\r\n     </g>\r\n    </g>\r\n    <g id=\"ytick_5\">\r\n     <g id=\"line2d_14\">\r\n      <g>\r\n       <use style=\"stroke:#000000;stroke-width:0.8;\" x=\"65.482813\" xlink:href=\"#md52a81bd58\" y=\"119.719219\"/>\r\n      </g>\r\n     </g>\r\n     <g id=\"text_14\">\r\n      <!-- HP -->\r\n      <g transform=\"translate(44.932813 122.478594)scale(0.1 -0.1)\">\r\n       <use xlink:href=\"#DejaVuSans-48\"/>\r\n       <use x=\"75.195312\" xlink:href=\"#DejaVuSans-50\"/>\r\n      </g>\r\n     </g>\r\n    </g>\r\n    <g id=\"ytick_6\">\r\n     <g id=\"line2d_15\">\r\n      <g>\r\n       <use style=\"stroke:#000000;stroke-width:0.8;\" x=\"65.482813\" xlink:href=\"#md52a81bd58\" y=\"143.879219\"/>\r\n      </g>\r\n     </g>\r\n     <g id=\"text_15\">\r\n      <!-- MetColor -->\r\n      <g transform=\"translate(13.671875 146.638594)scale(0.1 -0.1)\">\r\n       <use xlink:href=\"#DejaVuSans-4d\"/>\r\n       <use x=\"86.279297\" xlink:href=\"#DejaVuSans-65\"/>\r\n       <use x=\"147.802734\" xlink:href=\"#DejaVuSans-74\"/>\r\n       <use x=\"187.011719\" xlink:href=\"#DejaVuSans-43\"/>\r\n       <use x=\"256.835938\" xlink:href=\"#DejaVuSans-6f\"/>\r\n       <use x=\"318.017578\" xlink:href=\"#DejaVuSans-6c\"/>\r\n       <use x=\"345.800781\" xlink:href=\"#DejaVuSans-6f\"/>\r\n       <use x=\"406.982422\" xlink:href=\"#DejaVuSans-72\"/>\r\n      </g>\r\n     </g>\r\n    </g>\r\n    <g id=\"ytick_7\">\r\n     <g id=\"line2d_16\">\r\n      <g>\r\n       <use style=\"stroke:#000000;stroke-width:0.8;\" x=\"65.482813\" xlink:href=\"#md52a81bd58\" y=\"168.039219\"/>\r\n      </g>\r\n     </g>\r\n     <g id=\"text_16\">\r\n      <!-- Automatic -->\r\n      <g transform=\"translate(7.2 170.798594)scale(0.1 -0.1)\">\r\n       <use xlink:href=\"#DejaVuSans-41\"/>\r\n       <use x=\"68.408203\" xlink:href=\"#DejaVuSans-75\"/>\r\n       <use x=\"131.787109\" xlink:href=\"#DejaVuSans-74\"/>\r\n       <use x=\"170.996094\" xlink:href=\"#DejaVuSans-6f\"/>\r\n       <use x=\"232.177734\" xlink:href=\"#DejaVuSans-6d\"/>\r\n       <use x=\"329.589844\" xlink:href=\"#DejaVuSans-61\"/>\r\n       <use x=\"390.869141\" xlink:href=\"#DejaVuSans-74\"/>\r\n       <use x=\"430.078125\" xlink:href=\"#DejaVuSans-69\"/>\r\n       <use x=\"457.861328\" xlink:href=\"#DejaVuSans-63\"/>\r\n      </g>\r\n     </g>\r\n    </g>\r\n    <g id=\"ytick_8\">\r\n     <g id=\"line2d_17\">\r\n      <g>\r\n       <use style=\"stroke:#000000;stroke-width:0.8;\" x=\"65.482813\" xlink:href=\"#md52a81bd58\" y=\"192.199219\"/>\r\n      </g>\r\n     </g>\r\n     <g id=\"text_17\">\r\n      <!-- CC -->\r\n      <g transform=\"translate(44.517188 194.958594)scale(0.1 -0.1)\">\r\n       <use xlink:href=\"#DejaVuSans-43\"/>\r\n       <use x=\"69.824219\" xlink:href=\"#DejaVuSans-43\"/>\r\n      </g>\r\n     </g>\r\n    </g>\r\n    <g id=\"ytick_9\">\r\n     <g id=\"line2d_18\">\r\n      <g>\r\n       <use style=\"stroke:#000000;stroke-width:0.8;\" x=\"65.482813\" xlink:href=\"#md52a81bd58\" y=\"216.359219\"/>\r\n      </g>\r\n     </g>\r\n     <g id=\"text_18\">\r\n      <!-- Doors -->\r\n      <g transform=\"translate(29.225 219.118594)scale(0.1 -0.1)\">\r\n       <use xlink:href=\"#DejaVuSans-44\"/>\r\n       <use x=\"77.001953\" xlink:href=\"#DejaVuSans-6f\"/>\r\n       <use x=\"138.183594\" xlink:href=\"#DejaVuSans-6f\"/>\r\n       <use x=\"199.365234\" xlink:href=\"#DejaVuSans-72\"/>\r\n       <use x=\"240.478516\" xlink:href=\"#DejaVuSans-73\"/>\r\n      </g>\r\n     </g>\r\n    </g>\r\n   </g>\r\n  </g>\r\n  <g id=\"axes_2\">\r\n   <g id=\"patch_3\">\r\n    <path d=\"M 350.062813 228.439219 \r\nL 360.934813 228.439219 \r\nL 360.934813 10.999219 \r\nL 350.062813 10.999219 \r\nz\r\n\" style=\"fill:#ffffff;\"/>\r\n   </g>\r\n   <g id=\"patch_4\">\r\n    <path clip-path=\"url(#p9902655dd2)\" d=\"M 350.062813 228.439219 \r\nL 350.062813 217.567219 \r\nL 350.062813 21.871219 \r\nL 350.062813 10.999219 \r\nL 360.934813 10.999219 \r\nL 360.934813 21.871219 \r\nL 360.934813 217.567219 \r\nL 360.934813 228.439219 \r\nL 360.934813 228.439219 \r\nz\r\n\" style=\"fill:#ffffff;stroke:#ffffff;stroke-linejoin:miter;stroke-width:0.01;\"/>\r\n   </g>\r\n   <g id=\"QuadMesh_2\">\r\n    <path clip-path=\"url(#p9902655dd2)\" d=\"M 350.062813 228.439219 \r\nL 360.934813 228.439219 \r\nL 360.934813 217.567219 \r\nL 350.062813 217.567219 \r\nL 350.062813 228.439219 \r\n\" style=\"fill:#1f77b4;\"/>\r\n    <path clip-path=\"url(#p9902655dd2)\" d=\"M 350.062813 217.567219 \r\nL 360.934813 217.567219 \r\nL 360.934813 206.695219 \r\nL 350.062813 206.695219 \r\nL 350.062813 217.567219 \r\n\" style=\"fill:#aec7e8;\"/>\r\n    <path clip-path=\"url(#p9902655dd2)\" d=\"M 350.062813 206.695219 \r\nL 360.934813 206.695219 \r\nL 360.934813 195.823219 \r\nL 350.062813 195.823219 \r\nL 350.062813 206.695219 \r\n\" style=\"fill:#ff7f0e;\"/>\r\n    <path clip-path=\"url(#p9902655dd2)\" d=\"M 350.062813 195.823219 \r\nL 360.934813 195.823219 \r\nL 360.934813 184.951219 \r\nL 350.062813 184.951219 \r\nL 350.062813 195.823219 \r\n\" style=\"fill:#ffbb78;\"/>\r\n    <path clip-path=\"url(#p9902655dd2)\" d=\"M 350.062813 184.951219 \r\nL 360.934813 184.951219 \r\nL 360.934813 174.079219 \r\nL 350.062813 174.079219 \r\nL 350.062813 184.951219 \r\n\" style=\"fill:#2ca02c;\"/>\r\n    <path clip-path=\"url(#p9902655dd2)\" d=\"M 350.062813 174.079219 \r\nL 360.934813 174.079219 \r\nL 360.934813 163.207219 \r\nL 350.062813 163.207219 \r\nL 350.062813 174.079219 \r\n\" style=\"fill:#98df8a;\"/>\r\n    <path clip-path=\"url(#p9902655dd2)\" d=\"M 350.062813 163.207219 \r\nL 360.934813 163.207219 \r\nL 360.934813 152.335219 \r\nL 350.062813 152.335219 \r\nL 350.062813 163.207219 \r\n\" style=\"fill:#d62728;\"/>\r\n    <path clip-path=\"url(#p9902655dd2)\" d=\"M 350.062813 152.335219 \r\nL 360.934813 152.335219 \r\nL 360.934813 141.463219 \r\nL 350.062813 141.463219 \r\nL 350.062813 152.335219 \r\n\" style=\"fill:#ff9896;\"/>\r\n    <path clip-path=\"url(#p9902655dd2)\" d=\"M 350.062813 141.463219 \r\nL 360.934813 141.463219 \r\nL 360.934813 130.591219 \r\nL 350.062813 130.591219 \r\nL 350.062813 141.463219 \r\n\" style=\"fill:#9467bd;\"/>\r\n    <path clip-path=\"url(#p9902655dd2)\" d=\"M 350.062813 130.591219 \r\nL 360.934813 130.591219 \r\nL 360.934813 119.719219 \r\nL 350.062813 119.719219 \r\nL 350.062813 130.591219 \r\n\" style=\"fill:#c5b0d5;\"/>\r\n    <path clip-path=\"url(#p9902655dd2)\" d=\"M 350.062813 119.719219 \r\nL 360.934813 119.719219 \r\nL 360.934813 108.847219 \r\nL 350.062813 108.847219 \r\nL 350.062813 119.719219 \r\n\" style=\"fill:#8c564b;\"/>\r\n    <path clip-path=\"url(#p9902655dd2)\" d=\"M 350.062813 108.847219 \r\nL 360.934813 108.847219 \r\nL 360.934813 97.975219 \r\nL 350.062813 97.975219 \r\nL 350.062813 108.847219 \r\n\" style=\"fill:#c49c94;\"/>\r\n    <path clip-path=\"url(#p9902655dd2)\" d=\"M 350.062813 97.975219 \r\nL 360.934813 97.975219 \r\nL 360.934813 87.103219 \r\nL 350.062813 87.103219 \r\nL 350.062813 97.975219 \r\n\" style=\"fill:#e377c2;\"/>\r\n    <path clip-path=\"url(#p9902655dd2)\" d=\"M 350.062813 87.103219 \r\nL 360.934813 87.103219 \r\nL 360.934813 76.231219 \r\nL 350.062813 76.231219 \r\nL 350.062813 87.103219 \r\n\" style=\"fill:#f7b6d2;\"/>\r\n    <path clip-path=\"url(#p9902655dd2)\" d=\"M 350.062813 76.231219 \r\nL 360.934813 76.231219 \r\nL 360.934813 65.359219 \r\nL 350.062813 65.359219 \r\nL 350.062813 76.231219 \r\n\" style=\"fill:#7f7f7f;\"/>\r\n    <path clip-path=\"url(#p9902655dd2)\" d=\"M 350.062813 65.359219 \r\nL 360.934813 65.359219 \r\nL 360.934813 54.487219 \r\nL 350.062813 54.487219 \r\nL 350.062813 65.359219 \r\n\" style=\"fill:#c7c7c7;\"/>\r\n    <path clip-path=\"url(#p9902655dd2)\" d=\"M 350.062813 54.487219 \r\nL 360.934813 54.487219 \r\nL 360.934813 43.615219 \r\nL 350.062813 43.615219 \r\nL 350.062813 54.487219 \r\n\" style=\"fill:#bcbd22;\"/>\r\n    <path clip-path=\"url(#p9902655dd2)\" d=\"M 350.062813 43.615219 \r\nL 360.934813 43.615219 \r\nL 360.934813 32.743219 \r\nL 350.062813 32.743219 \r\nL 350.062813 43.615219 \r\n\" style=\"fill:#dbdb8d;\"/>\r\n    <path clip-path=\"url(#p9902655dd2)\" d=\"M 350.062813 32.743219 \r\nL 360.934813 32.743219 \r\nL 360.934813 21.871219 \r\nL 350.062813 21.871219 \r\nL 350.062813 32.743219 \r\n\" style=\"fill:#17becf;\"/>\r\n    <path clip-path=\"url(#p9902655dd2)\" d=\"M 350.062813 21.871219 \r\nL 360.934813 21.871219 \r\nL 360.934813 10.999219 \r\nL 350.062813 10.999219 \r\nL 350.062813 21.871219 \r\n\" style=\"fill:#9edae5;\"/>\r\n   </g>\r\n   <g id=\"matplotlib.axis_3\"/>\r\n   <g id=\"matplotlib.axis_4\">\r\n    <g id=\"ytick_10\">\r\n     <g id=\"line2d_19\">\r\n      <defs>\r\n       <path d=\"M 0 0 \r\nL 3.5 0 \r\n\" id=\"m56a8fc1f09\" style=\"stroke:#000000;stroke-width:0.8;\"/>\r\n      </defs>\r\n      <g>\r\n       <use style=\"stroke:#000000;stroke-width:0.8;\" x=\"360.934813\" xlink:href=\"#m56a8fc1f09\" y=\"217.230729\"/>\r\n      </g>\r\n     </g>\r\n     <g id=\"text_19\">\r\n      <!-- −0.75 -->\r\n      <g transform=\"translate(367.934813 221.029948)scale(0.1 -0.1)\">\r\n       <defs>\r\n        <path d=\"M 678 2272 \r\nL 4684 2272 \r\nL 4684 1741 \r\nL 678 1741 \r\nL 678 2272 \r\nz\r\n\" id=\"DejaVuSans-2212\" transform=\"scale(0.015625)\"/>\r\n        <path d=\"M 2034 4250 \r\nQ 1547 4250 1301 3770 \r\nQ 1056 3291 1056 2328 \r\nQ 1056 1369 1301 889 \r\nQ 1547 409 2034 409 \r\nQ 2525 409 2770 889 \r\nQ 3016 1369 3016 2328 \r\nQ 3016 3291 2770 3770 \r\nQ 2525 4250 2034 4250 \r\nz\r\nM 2034 4750 \r\nQ 2819 4750 3233 4129 \r\nQ 3647 3509 3647 2328 \r\nQ 3647 1150 3233 529 \r\nQ 2819 -91 2034 -91 \r\nQ 1250 -91 836 529 \r\nQ 422 1150 422 2328 \r\nQ 422 3509 836 4129 \r\nQ 1250 4750 2034 4750 \r\nz\r\n\" id=\"DejaVuSans-30\" transform=\"scale(0.015625)\"/>\r\n        <path d=\"M 684 794 \r\nL 1344 794 \r\nL 1344 0 \r\nL 684 0 \r\nL 684 794 \r\nz\r\n\" id=\"DejaVuSans-2e\" transform=\"scale(0.015625)\"/>\r\n        <path d=\"M 525 4666 \r\nL 3525 4666 \r\nL 3525 4397 \r\nL 1831 0 \r\nL 1172 0 \r\nL 2766 4134 \r\nL 525 4134 \r\nL 525 4666 \r\nz\r\n\" id=\"DejaVuSans-37\" transform=\"scale(0.015625)\"/>\r\n        <path d=\"M 691 4666 \r\nL 3169 4666 \r\nL 3169 4134 \r\nL 1269 4134 \r\nL 1269 2991 \r\nQ 1406 3038 1543 3061 \r\nQ 1681 3084 1819 3084 \r\nQ 2600 3084 3056 2656 \r\nQ 3513 2228 3513 1497 \r\nQ 3513 744 3044 326 \r\nQ 2575 -91 1722 -91 \r\nQ 1428 -91 1123 -41 \r\nQ 819 9 494 109 \r\nL 494 744 \r\nQ 775 591 1075 516 \r\nQ 1375 441 1709 441 \r\nQ 2250 441 2565 725 \r\nQ 2881 1009 2881 1497 \r\nQ 2881 1984 2565 2268 \r\nQ 2250 2553 1709 2553 \r\nQ 1456 2553 1204 2497 \r\nQ 953 2441 691 2322 \r\nL 691 4666 \r\nz\r\n\" id=\"DejaVuSans-35\" transform=\"scale(0.015625)\"/>\r\n       </defs>\r\n       <use xlink:href=\"#DejaVuSans-2212\"/>\r\n       <use x=\"83.789062\" xlink:href=\"#DejaVuSans-30\"/>\r\n       <use x=\"147.412109\" xlink:href=\"#DejaVuSans-2e\"/>\r\n       <use x=\"179.199219\" xlink:href=\"#DejaVuSans-37\"/>\r\n       <use x=\"242.822266\" xlink:href=\"#DejaVuSans-35\"/>\r\n      </g>\r\n     </g>\r\n    </g>\r\n    <g id=\"ytick_11\">\r\n     <g id=\"line2d_20\">\r\n      <g>\r\n       <use style=\"stroke:#000000;stroke-width:0.8;\" x=\"360.934813\" xlink:href=\"#m56a8fc1f09\" y=\"187.769085\"/>\r\n      </g>\r\n     </g>\r\n     <g id=\"text_20\">\r\n      <!-- −0.50 -->\r\n      <g transform=\"translate(367.934813 191.568304)scale(0.1 -0.1)\">\r\n       <use xlink:href=\"#DejaVuSans-2212\"/>\r\n       <use x=\"83.789062\" xlink:href=\"#DejaVuSans-30\"/>\r\n       <use x=\"147.412109\" xlink:href=\"#DejaVuSans-2e\"/>\r\n       <use x=\"179.199219\" xlink:href=\"#DejaVuSans-35\"/>\r\n       <use x=\"242.822266\" xlink:href=\"#DejaVuSans-30\"/>\r\n      </g>\r\n     </g>\r\n    </g>\r\n    <g id=\"ytick_12\">\r\n     <g id=\"line2d_21\">\r\n      <g>\r\n       <use style=\"stroke:#000000;stroke-width:0.8;\" x=\"360.934813\" xlink:href=\"#m56a8fc1f09\" y=\"158.30744\"/>\r\n      </g>\r\n     </g>\r\n     <g id=\"text_21\">\r\n      <!-- −0.25 -->\r\n      <g transform=\"translate(367.934813 162.106659)scale(0.1 -0.1)\">\r\n       <defs>\r\n        <path d=\"M 1228 531 \r\nL 3431 531 \r\nL 3431 0 \r\nL 469 0 \r\nL 469 531 \r\nQ 828 903 1448 1529 \r\nQ 2069 2156 2228 2338 \r\nQ 2531 2678 2651 2914 \r\nQ 2772 3150 2772 3378 \r\nQ 2772 3750 2511 3984 \r\nQ 2250 4219 1831 4219 \r\nQ 1534 4219 1204 4116 \r\nQ 875 4013 500 3803 \r\nL 500 4441 \r\nQ 881 4594 1212 4672 \r\nQ 1544 4750 1819 4750 \r\nQ 2544 4750 2975 4387 \r\nQ 3406 4025 3406 3419 \r\nQ 3406 3131 3298 2873 \r\nQ 3191 2616 2906 2266 \r\nQ 2828 2175 2409 1742 \r\nQ 1991 1309 1228 531 \r\nz\r\n\" id=\"DejaVuSans-32\" transform=\"scale(0.015625)\"/>\r\n       </defs>\r\n       <use xlink:href=\"#DejaVuSans-2212\"/>\r\n       <use x=\"83.789062\" xlink:href=\"#DejaVuSans-30\"/>\r\n       <use x=\"147.412109\" xlink:href=\"#DejaVuSans-2e\"/>\r\n       <use x=\"179.199219\" xlink:href=\"#DejaVuSans-32\"/>\r\n       <use x=\"242.822266\" xlink:href=\"#DejaVuSans-35\"/>\r\n      </g>\r\n     </g>\r\n    </g>\r\n    <g id=\"ytick_13\">\r\n     <g id=\"line2d_22\">\r\n      <g>\r\n       <use style=\"stroke:#000000;stroke-width:0.8;\" x=\"360.934813\" xlink:href=\"#m56a8fc1f09\" y=\"128.845796\"/>\r\n      </g>\r\n     </g>\r\n     <g id=\"text_22\">\r\n      <!-- 0.00 -->\r\n      <g transform=\"translate(367.934813 132.645015)scale(0.1 -0.1)\">\r\n       <use xlink:href=\"#DejaVuSans-30\"/>\r\n       <use x=\"63.623047\" xlink:href=\"#DejaVuSans-2e\"/>\r\n       <use x=\"95.410156\" xlink:href=\"#DejaVuSans-30\"/>\r\n       <use x=\"159.033203\" xlink:href=\"#DejaVuSans-30\"/>\r\n      </g>\r\n     </g>\r\n    </g>\r\n    <g id=\"ytick_14\">\r\n     <g id=\"line2d_23\">\r\n      <g>\r\n       <use style=\"stroke:#000000;stroke-width:0.8;\" x=\"360.934813\" xlink:href=\"#m56a8fc1f09\" y=\"99.384152\"/>\r\n      </g>\r\n     </g>\r\n     <g id=\"text_23\">\r\n      <!-- 0.25 -->\r\n      <g transform=\"translate(367.934813 103.183371)scale(0.1 -0.1)\">\r\n       <use xlink:href=\"#DejaVuSans-30\"/>\r\n       <use x=\"63.623047\" xlink:href=\"#DejaVuSans-2e\"/>\r\n       <use x=\"95.410156\" xlink:href=\"#DejaVuSans-32\"/>\r\n       <use x=\"159.033203\" xlink:href=\"#DejaVuSans-35\"/>\r\n      </g>\r\n     </g>\r\n    </g>\r\n    <g id=\"ytick_15\">\r\n     <g id=\"line2d_24\">\r\n      <g>\r\n       <use style=\"stroke:#000000;stroke-width:0.8;\" x=\"360.934813\" xlink:href=\"#m56a8fc1f09\" y=\"69.922507\"/>\r\n      </g>\r\n     </g>\r\n     <g id=\"text_24\">\r\n      <!-- 0.50 -->\r\n      <g transform=\"translate(367.934813 73.721726)scale(0.1 -0.1)\">\r\n       <use xlink:href=\"#DejaVuSans-30\"/>\r\n       <use x=\"63.623047\" xlink:href=\"#DejaVuSans-2e\"/>\r\n       <use x=\"95.410156\" xlink:href=\"#DejaVuSans-35\"/>\r\n       <use x=\"159.033203\" xlink:href=\"#DejaVuSans-30\"/>\r\n      </g>\r\n     </g>\r\n    </g>\r\n    <g id=\"ytick_16\">\r\n     <g id=\"line2d_25\">\r\n      <g>\r\n       <use style=\"stroke:#000000;stroke-width:0.8;\" x=\"360.934813\" xlink:href=\"#m56a8fc1f09\" y=\"40.460863\"/>\r\n      </g>\r\n     </g>\r\n     <g id=\"text_25\">\r\n      <!-- 0.75 -->\r\n      <g transform=\"translate(367.934813 44.260082)scale(0.1 -0.1)\">\r\n       <use xlink:href=\"#DejaVuSans-30\"/>\r\n       <use x=\"63.623047\" xlink:href=\"#DejaVuSans-2e\"/>\r\n       <use x=\"95.410156\" xlink:href=\"#DejaVuSans-37\"/>\r\n       <use x=\"159.033203\" xlink:href=\"#DejaVuSans-35\"/>\r\n      </g>\r\n     </g>\r\n    </g>\r\n    <g id=\"ytick_17\">\r\n     <g id=\"line2d_26\">\r\n      <g>\r\n       <use style=\"stroke:#000000;stroke-width:0.8;\" x=\"360.934813\" xlink:href=\"#m56a8fc1f09\" y=\"10.999219\"/>\r\n      </g>\r\n     </g>\r\n     <g id=\"text_26\">\r\n      <!-- 1.00 -->\r\n      <g transform=\"translate(367.934813 14.798437)scale(0.1 -0.1)\">\r\n       <defs>\r\n        <path d=\"M 794 531 \r\nL 1825 531 \r\nL 1825 4091 \r\nL 703 3866 \r\nL 703 4441 \r\nL 1819 4666 \r\nL 2450 4666 \r\nL 2450 531 \r\nL 3481 531 \r\nL 3481 0 \r\nL 794 0 \r\nL 794 531 \r\nz\r\n\" id=\"DejaVuSans-31\" transform=\"scale(0.015625)\"/>\r\n       </defs>\r\n       <use xlink:href=\"#DejaVuSans-31\"/>\r\n       <use x=\"63.623047\" xlink:href=\"#DejaVuSans-2e\"/>\r\n       <use x=\"95.410156\" xlink:href=\"#DejaVuSans-30\"/>\r\n       <use x=\"159.033203\" xlink:href=\"#DejaVuSans-30\"/>\r\n      </g>\r\n     </g>\r\n    </g>\r\n   </g>\r\n   <g id=\"LineCollection_1\"/>\r\n   <g id=\"patch_5\">\r\n    <path d=\"M 350.062813 228.439219 \r\nL 350.062813 217.567219 \r\nL 350.062813 21.871219 \r\nL 350.062813 10.999219 \r\nL 360.934813 10.999219 \r\nL 360.934813 21.871219 \r\nL 360.934813 217.567219 \r\nL 360.934813 228.439219 \r\nz\r\n\" style=\"fill:none;\"/>\r\n   </g>\r\n  </g>\r\n </g>\r\n <defs>\r\n  <clipPath id=\"p961ae49914\">\r\n   <rect height=\"217.44\" width=\"267.84\" x=\"65.482813\" y=\"10.999219\"/>\r\n  </clipPath>\r\n  <clipPath id=\"p9902655dd2\">\r\n   <rect height=\"217.44\" width=\"10.872\" x=\"350.062813\" y=\"10.999219\"/>\r\n  </clipPath>\r\n </defs>\r\n</svg>\r\n",
      "image/png": "[encoded data removed]"
     },
     "metadata": {
      "needs_background": "light"
     }
    }
   ],
   "metadata": {}
  },
  {
   "cell_type": "code",
   "execution_count": 18,
   "source": [
    "columns = np.full((len(new_dataset.columns),), True, dtype=bool)\r\n",
    "for i in range(corr.shape[0]):\r\n",
    "    for j in range(i+1, corr.shape[0]):\r\n",
    "        if corr.iloc[i,j] >= 0.9:\r\n",
    "            if columns[j]:\r\n",
    "                columns[j] = False\r\n",
    "selected_columns = new_dataset.columns[columns]\r\n",
    "print(selected_columns)"
   ],
   "outputs": [
    {
     "output_type": "stream",
     "name": "stdout",
     "text": [
      "[ True  True  True  True  True  True  True  True  True]\n",
      "Index(['Price', 'Age', 'KM', 'FuelType', 'HP', 'MetColor', 'Automatic', 'CC',\n",
      "       'Doors'],\n",
      "      dtype='object')\n"
     ]
    }
   ],
   "metadata": {}
  },
  {
   "cell_type": "code",
   "execution_count": 21,
   "source": [
    "new_dataset = new_dataset[selected_columns]\r\n",
    "# print(type(new_dataset.iloc[:, :-1]))"
   ],
   "outputs": [],
   "metadata": {}
  },
  {
   "cell_type": "markdown",
   "source": [
    "## 4. Scaling and Transformation"
   ],
   "metadata": {}
  },
  {
   "cell_type": "code",
   "execution_count": 23,
   "source": [
    "# Perform Scaling and transformation\r\n",
    "new_X = new_dataset.iloc[:, :-1].values\r\n",
    "min_max_scalar = MinMaxScaler()\r\n",
    "std_scalar = StandardScaler()\r\n",
    "\r\n",
    "new_X[:,0:3] = std_scalar.fit_transform(min_max_scalar.fit_transform(new_X[:,0:3]))\r\n",
    "new_X[:,4:5] = std_scalar.fit_transform(min_max_scalar.fit_transform(new_X[:,4:5]))\r\n",
    "new_X[:,7:9] = std_scalar.fit_transform(min_max_scalar.fit_transform(new_X[:,7:9]))"
   ],
   "outputs": [],
   "metadata": {}
  },
  {
   "cell_type": "code",
   "execution_count": 19,
   "source": [
    "print(\"Preprocessed new DataSet:\\n\", new_dataset)"
   ],
   "outputs": [
    {
     "output_type": "stream",
     "name": "stdout",
     "text": [
      "Preprocessed new DataSet:\n",
      "         Price        Age            KM  FuelType     HP  MetColor  Automatic  \\\n",
      "0     13500.0  23.000000  46986.000000       1.0   90.0       1.0        0.0   \n",
      "1     13750.0  23.000000  72937.000000       1.0   90.0       1.0        0.0   \n",
      "2     13950.0  24.000000  41711.000000       1.0   90.0       1.0        0.0   \n",
      "3     14950.0  26.000000  48000.000000       1.0   90.0       0.0        0.0   \n",
      "4     13750.0  30.000000  38500.000000       1.0   90.0       0.0        0.0   \n",
      "...       ...        ...           ...       ...    ...       ...        ...   \n",
      "1431   7500.0  55.672156  20544.000000       2.0   86.0       1.0        0.0   \n",
      "1432  10845.0  72.000000  68647.239972       2.0   86.0       0.0        0.0   \n",
      "1433   8500.0  55.672156  17016.000000       2.0   86.0       0.0        0.0   \n",
      "1434   7250.0  70.000000  68647.239972       3.0   86.0       1.0        0.0   \n",
      "1435   6950.0  76.000000      1.000000       2.0  110.0       0.0        0.0   \n",
      "\n",
      "          CC  Doors  \n",
      "0     2000.0    3.0  \n",
      "1     2000.0    3.0  \n",
      "2     2000.0    3.0  \n",
      "3     2000.0    3.0  \n",
      "4     2000.0    3.0  \n",
      "...      ...    ...  \n",
      "1431  1300.0    3.0  \n",
      "1432  1300.0    3.0  \n",
      "1433  1300.0    3.0  \n",
      "1434  1300.0    3.0  \n",
      "1435  1600.0    5.0  \n",
      "\n",
      "[1436 rows x 9 columns]\n"
     ]
    }
   ],
   "metadata": {}
  }
 ],
 "metadata": {
  "orig_nbformat": 4,
  "language_info": {
   "name": "python",
   "version": "3.9.2",
   "mimetype": "text/x-python",
   "codemirror_mode": {
    "name": "ipython",
    "version": 3
   },
   "pygments_lexer": "ipython3",
   "nbconvert_exporter": "python",
   "file_extension": ".py"
  },
  "kernelspec": {
   "name": "python3",
   "display_name": "Python 3.9.2 64-bit"
  },
  "interpreter": {
   "hash": "dcacb0086e9a4f4eabd41c33bf4faac5ea0a3337ed3f5eff0680afa930572c04"
  }
 },
 "nbformat": 4,
 "nbformat_minor": 2
}