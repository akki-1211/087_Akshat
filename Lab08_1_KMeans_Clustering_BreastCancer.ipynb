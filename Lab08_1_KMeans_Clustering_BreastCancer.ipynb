{
 "cells": [
  {
   "cell_type": "markdown",
   "source": [
    "# Write a python program to perform K-Means clustering on Breast Cancer Data"
   ],
   "metadata": {}
  },
  {
   "cell_type": "code",
   "execution_count": 2,
   "source": [
    "import numpy as np\r\n",
    "import pandas as pd\r\n",
    "import matplotlib.pyplot as plt\r\n",
    "from sklearn.metrics import confusion_matrix, accuracy_score\r\n",
    "from sklearn import datasets\r\n",
    "from sklearn.cluster import KMeans"
   ],
   "outputs": [],
   "metadata": {}
  },
  {
   "cell_type": "code",
   "execution_count": 3,
   "source": [
    "cancer_data = datasets.load_breast_cancer()\r\n",
    "# print(cancer_data)\r\n",
    "print(f\"Shape: {cancer_data.data.shape}\")\r\n",
    "print(f\"Target Shape: {cancer_data.target.shape}\")\r\n",
    "print(f\"Features: {cancer_data.feature_names}\")\r\n",
    "print(f\"Target Names: {cancer_data.target_names}\")"
   ],
   "outputs": [
    {
     "output_type": "stream",
     "name": "stdout",
     "text": [
      "Shape: (569, 30)\n",
      "Target Shape: (569,)\n",
      "Features: ['mean radius' 'mean texture' 'mean perimeter' 'mean area'\n",
      " 'mean smoothness' 'mean compactness' 'mean concavity'\n",
      " 'mean concave points' 'mean symmetry' 'mean fractal dimension'\n",
      " 'radius error' 'texture error' 'perimeter error' 'area error'\n",
      " 'smoothness error' 'compactness error' 'concavity error'\n",
      " 'concave points error' 'symmetry error' 'fractal dimension error'\n",
      " 'worst radius' 'worst texture' 'worst perimeter' 'worst area'\n",
      " 'worst smoothness' 'worst compactness' 'worst concavity'\n",
      " 'worst concave points' 'worst symmetry' 'worst fractal dimension']\n",
      "Target Names: ['malignant' 'benign']\n"
     ]
    }
   ],
   "metadata": {}
  },
  {
   "cell_type": "code",
   "execution_count": 4,
   "source": [
    "# 0 means benign and 1 means malignant\r\n",
    "plt.scatter(cancer_data.data[:,0], cancer_data.target, c='red', marker=\"*\")\r\n",
    "plt.xlabel(\"Features\")\r\n",
    "plt.ylabel(\"Cancer Type\")\r\n",
    "plt.show()"
   ],
   "outputs": [
    {
     "output_type": "display_data",
     "data": {
      "image/png": "[encoded data removed]",
      "text/plain": [
       "<Figure size 432x288 with 1 Axes>"
      ]
     },
     "metadata": {
      "needs_background": "light"
     }
    }
   ],
   "metadata": {}
  },
  {
   "cell_type": "code",
   "execution_count": 5,
   "source": [
    "kmeans = KMeans(n_clusters=3, random_state=87)\r\n",
    "prediction = kmeans.fit_predict(cancer_data.data)\r\n",
    "print(prediction)"
   ],
   "outputs": [
    {
     "output_type": "stream",
     "name": "stdout",
     "text": [
      "[2 2 2 1 2 1 2 1 1 1 2 2 2 1 1 1 2 2 0 1 1 1 1 0 2 2 1 2 2 2 2 1 2 2 2 2 1\n",
      " 1 1 1 1 1 2 1 1 2 1 1 1 1 1 1 1 2 1 1 2 1 1 1 1 1 1 1 1 1 1 1 1 1 2 1 2 1\n",
      " 1 2 1 2 2 1 1 1 0 2 1 2 1 2 1 1 1 1 1 1 1 2 1 1 1 1 1 1 1 1 1 1 1 1 0 1 1\n",
      " 1 1 1 1 1 1 1 2 2 1 2 0 1 1 1 1 2 1 2 1 2 2 1 2 1 1 1 1 1 1 2 1 1 1 1 1 1\n",
      " 1 1 1 1 1 1 1 1 2 2 1 1 1 2 0 1 0 1 1 2 2 1 1 1 2 1 1 1 1 1 1 1 0 2 2 1 1\n",
      " 1 2 1 1 1 1 1 1 1 1 1 1 2 2 1 1 2 0 1 1 1 1 2 1 1 2 1 0 2 1 1 1 1 2 0 1 1\n",
      " 1 2 1 1 1 1 1 1 2 1 1 2 1 1 0 2 1 2 1 1 1 1 2 1 1 1 1 1 2 1 2 2 2 1 2 1 2\n",
      " 1 2 2 2 1 2 0 1 1 1 1 1 1 0 1 2 1 1 2 1 1 2 1 2 1 1 1 1 1 1 1 1 1 1 1 1 1\n",
      " 1 1 1 1 2 1 2 1 1 1 1 1 1 1 1 1 1 1 1 1 1 2 1 1 1 2 1 2 1 1 1 1 2 1 2 1 1\n",
      " 1 1 2 1 2 1 0 1 1 1 2 1 1 1 1 1 1 1 1 0 1 1 1 1 1 1 1 1 1 1 1 1 2 2 1 0 0\n",
      " 2 1 2 2 1 1 1 1 1 1 1 1 1 1 1 1 1 1 1 2 1 1 2 2 1 1 1 1 1 1 2 1 1 1 1 1 1\n",
      " 1 2 1 1 1 1 1 1 1 1 2 1 1 1 1 1 1 1 1 1 1 1 1 1 1 2 2 1 1 1 1 1 1 1 2 1 1\n",
      " 2 1 2 1 1 2 1 2 1 1 1 1 1 1 1 1 2 0 1 1 1 1 1 1 2 1 1 1 1 1 1 1 1 1 1 1 1\n",
      " 1 1 1 1 1 1 2 1 2 1 2 2 1 1 1 1 1 2 2 1 1 1 0 1 1 1 1 1 1 1 1 1 1 1 1 2 2\n",
      " 1 1 1 0 1 1 1 1 1 1 1 1 1 1 1 2 1 2 1 1 1 1 1 1 1 1 1 1 1 1 1 1 1 1 1 1 1\n",
      " 1 1 1 1 1 1 1 1 2 2 2 2 2 1]\n"
     ]
    }
   ],
   "metadata": {}
  },
  {
   "cell_type": "code",
   "execution_count": 6,
   "source": [
    "print(kmeans.cluster_centers_.shape)\r\n",
    "print(kmeans.cluster_centers_)"
   ],
   "outputs": [
    {
     "output_type": "stream",
     "name": "stdout",
     "text": [
      "(3, 30)\n",
      "[[2.32147619e+01 2.27285714e+01 1.55066667e+02 1.70276190e+03\n",
      "  1.05001429e-01 1.73405714e-01 2.44971429e-01 1.35852381e-01\n",
      "  1.88309524e-01 5.93747619e-02 1.13901429e+00 1.25883333e+00\n",
      "  8.19842857e+00 1.81798571e+02 7.06723810e-03 3.64780952e-02\n",
      "  4.95609524e-02 1.62100000e-02 1.99633333e-02 3.84780952e-03\n",
      "  2.95500000e+01 3.02228571e+01 2.00490476e+02 2.70328571e+03\n",
      "  1.42195238e-01 3.90485714e-01 5.27814286e-01 2.29571429e-01\n",
      "  2.94823810e-01 8.26404762e-02]\n",
      " [1.24468918e+01 1.85046588e+01 8.03803294e+01 4.86458118e+02\n",
      "  9.48157176e-02 9.04881882e-02 6.08800016e-02 3.25494682e-02\n",
      "  1.77951765e-01 6.35771765e-02 3.00681647e-01 1.21837294e+00\n",
      "  2.12940400e+00 2.32080188e+01 7.17541647e-03 2.33490235e-02\n",
      "  2.84143873e-02 1.05452329e-02 2.07137600e-02 3.75171835e-03\n",
      "  1.38918094e+01 2.45948235e+01 9.09125412e+01 6.04658353e+02\n",
      "  1.29845529e-01 2.21074000e-01 2.14822228e-01 8.97035082e-02\n",
      "  2.82468471e-01 8.32831059e-02]\n",
      " [1.83820325e+01 2.14148780e+01 1.21238537e+02 1.05796098e+03\n",
      "  1.00221870e-01 1.40414797e-01 1.58604959e-01 9.06387805e-02\n",
      "  1.91033333e-01 6.06883740e-02 6.40926016e-01 1.20443577e+00\n",
      "  4.50100813e+00 7.53708943e+01 6.57197561e-03 3.09567967e-02\n",
      "  4.08994309e-02 1.53647805e-02 2.00486992e-02 3.93508943e-03\n",
      "  2.22162602e+01 2.86411382e+01 1.47833333e+02 1.52278862e+03\n",
      "  1.39408780e-01 3.45692358e-01 4.26761789e-01 1.81023984e-01\n",
      "  3.15549593e-01 8.64585366e-02]]\n"
     ]
    }
   ],
   "metadata": {}
  },
  {
   "cell_type": "code",
   "execution_count": 7,
   "source": [
    "plt.scatter(cancer_data.data[:, 0], cancer_data.target, c='red', marker='*')\r\n",
    "plt.scatter(kmeans.cluster_centers_[:, 0], kmeans.cluster_centers_[:, 1], c='green', marker='+')\r\n",
    "plt.title('Data points and cluster centroids')\r\n",
    "plt.show()"
   ],
   "outputs": [
    {
     "output_type": "display_data",
     "data": {
      "image/png": "[encoded data removed]",
      "text/plain": [
       "<Figure size 432x288 with 1 Axes>"
      ]
     },
     "metadata": {
      "needs_background": "light"
     }
    }
   ],
   "metadata": {}
  },
  {
   "cell_type": "code",
   "execution_count": 8,
   "source": [
    "from scipy.stats import mode\r\n",
    "labels =np.zeros_like(prediction)\r\n",
    "for i in range(10):\r\n",
    "    mask = (prediction == i)\r\n",
    "    labels[mask] = mode(cancer_data.target[mask])[0]"
   ],
   "outputs": [],
   "metadata": {}
  },
  {
   "cell_type": "code",
   "execution_count": 9,
   "source": [
    "import seaborn as sns\r\n",
    "\r\n",
    "conf_mat = confusion_matrix(cancer_data.target, labels)\r\n",
    "ax = sns.heatmap(conf_mat.T, square=True, annot=True, cbar=False, \r\n",
    "                xticklabels=cancer_data.target_names, \r\n",
    "                yticklabels=cancer_data.target_names)\r\n",
    "plt.xlabel(\"True Label\")\r\n",
    "plt.ylabel(\"Predicted Label\")\r\n",
    "plt.show()"
   ],
   "outputs": [
    {
     "output_type": "display_data",
     "data": {
      "image/png": "[encoded data removed]",
      "text/plain": [
       "<Figure size 432x288 with 1 Axes>"
      ]
     },
     "metadata": {
      "needs_background": "light"
     }
    }
   ],
   "metadata": {}
  },
  {
   "cell_type": "code",
   "execution_count": 10,
   "source": [
    "print(f\"Accuracy score: {accuracy_score(cancer_data.target, labels)}\")"
   ],
   "outputs": [
    {
     "output_type": "stream",
     "name": "stdout",
     "text": [
      "Accuracy score: 0.8734622144112478\n"
     ]
    }
   ],
   "metadata": {}
  },
  {
   "cell_type": "markdown",
   "source": [
    "##find sse for given data and make albo chart"
   ],
   "metadata": {}
  },
  {
   "cell_type": "code",
   "execution_count": 12,
   "source": [
    "sse = []\r\n",
    "for k in range(1,11):\r\n",
    "    km = KMeans(n_clusters=k).fit(cancer_data.data,cancer_data.target)\r\n",
    "    sse.append(km.inertia_)\r\n",
    "sse\r\n",
    "plt.xlabel(\"K\")\r\n",
    "plt.ylabel(\"sse\")\r\n",
    "krng = range(1,11)\r\n",
    "plt.plot(krng,sse)"
   ],
   "outputs": [
    {
     "output_type": "execute_result",
     "data": {
      "text/plain": [
       "[<matplotlib.lines.Line2D at 0x232ea758070>]"
      ]
     },
     "metadata": {},
     "execution_count": 12
    },
    {
     "output_type": "display_data",
     "data": {
      "image/png": "[encoded data removed]",
      "text/plain": [
       "<Figure size 432x288 with 1 Axes>"
      ]
     },
     "metadata": {
      "needs_background": "light"
     }
    }
   ],
   "metadata": {}
  }
 ],
 "metadata": {
  "orig_nbformat": 4,
  "language_info": {
   "name": "python",
   "version": "3.9.2",
   "mimetype": "text/x-python",
   "codemirror_mode": {
    "name": "ipython",
    "version": 3
   },
   "pygments_lexer": "ipython3",
   "nbconvert_exporter": "python",
   "file_extension": ".py"
  },
  "kernelspec": {
   "name": "python3",
   "display_name": "Python 3.9.2 64-bit"
  },
  "interpreter": {
   "hash": "dcacb0086e9a4f4eabd41c33bf4faac5ea0a3337ed3f5eff0680afa930572c04"
  }
 },
 "nbformat": 4,
 "nbformat_minor": 2
}