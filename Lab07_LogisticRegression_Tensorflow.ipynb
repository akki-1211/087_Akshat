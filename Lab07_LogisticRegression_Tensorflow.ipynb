{
 "cells": [
  {
   "cell_type": "markdown",
   "source": [
    "# Aim:\n",
    "* Extract features for logistic regression given some text\n",
    "* Implement logistic regression from scratch\n",
    "* Apply logistic regression on a natural language processing task\n",
    "* Test logistic regression\n",
    "\n",
    "We will be using a data set of tweets."
   ],
   "metadata": {
    "id": "HQ_69fJ8FNrZ",
    "colab_type": "text"
   }
  },
  {
   "cell_type": "markdown",
   "source": [
    "## Import functions and data"
   ],
   "metadata": {
    "id": "3Bab5_YEFNrf",
    "colab_type": "text"
   }
  },
  {
   "cell_type": "code",
   "execution_count": 1,
   "source": [
    "import nltk\r\n",
    "from nltk.corpus import twitter_samples \r\n",
    "import pandas as pd\r\n",
    "import tensorflow as tf\r\n",
    "from tensorflow.python.framework.ops import disable_eager_execution\r\n",
    "disable_eager_execution()"
   ],
   "outputs": [],
   "metadata": {
    "id": "ltnC-DbVFNrl",
    "colab_type": "code",
    "colab": {}
   }
  },
  {
   "cell_type": "code",
   "execution_count": 2,
   "source": [
    "nltk.download('twitter_samples')\r\n",
    "nltk.download('stopwords')"
   ],
   "outputs": [
    {
     "output_type": "stream",
     "name": "stderr",
     "text": [
      "[nltk_data] Downloading package twitter_samples to\n",
      "[nltk_data]     C:\\Users\\Admin\\AppData\\Roaming\\nltk_data...\n",
      "[nltk_data]   Package twitter_samples is already up-to-date!\n",
      "[nltk_data] Downloading package stopwords to\n",
      "[nltk_data]     C:\\Users\\Admin\\AppData\\Roaming\\nltk_data...\n",
      "[nltk_data]   Package stopwords is already up-to-date!\n"
     ]
    },
    {
     "output_type": "execute_result",
     "data": {
      "text/plain": [
       "True"
      ]
     },
     "metadata": {},
     "execution_count": 2
    }
   ],
   "metadata": {
    "id": "nEw35lgbIKmJ",
    "colab_type": "code",
    "colab": {
     "base_uri": "https://localhost:8080/",
     "height": 104
    },
    "executionInfo": {
     "status": "ok",
     "timestamp": 1599052285796,
     "user_tz": -330,
     "elapsed": 3805,
     "user": {
      "displayName": "Prof. Hariom Pandya",
      "photoUrl": "https://lh3.googleusercontent.com/a-/AOh14Ggt3sg6X_951s0boD3SSJvqRng4AQaC3MhTBtGQ9Q=s64",
      "userId": "16159546014304882594"
     }
    },
    "outputId": "462924da-f065-40c3-fa7c-52d4163c7aeb"
   }
  },
  {
   "cell_type": "code",
   "execution_count": 3,
   "source": [
    "import re\r\n",
    "import string\r\n",
    "import numpy as np\r\n",
    "\r\n",
    "from nltk.corpus import stopwords\r\n",
    "from nltk.stem import PorterStemmer\r\n",
    "from nltk.tokenize import TweetTokenizer"
   ],
   "outputs": [],
   "metadata": {
    "id": "K8zAwNf3IcwC",
    "colab_type": "code",
    "colab": {}
   }
  },
  {
   "cell_type": "markdown",
   "source": [
    "# Preprocessing the data"
   ],
   "metadata": {}
  },
  {
   "cell_type": "code",
   "execution_count": 4,
   "source": [
    "#process_tweet(): cleans the text, tokenizes it into separate words, removes stopwords, and converts words to stems.\r\n",
    "def process_tweet(tweet):\r\n",
    "    \"\"\"Process tweet function.\r\n",
    "    Input:\r\n",
    "        tweet: a string containing a tweet\r\n",
    "    Output:\r\n",
    "        tweets_clean: a list of words containing the processed tweet\r\n",
    "\r\n",
    "    \"\"\"\r\n",
    "    stemmer = PorterStemmer()\r\n",
    "    stopwords_english = stopwords.words('english')\r\n",
    "\r\n",
    "    # remove stock market tickers like $GE\r\n",
    "    tweet = re.sub(r'\\$\\w*', '', tweet)\r\n",
    "    # remove old style retweet text \"RT\"\r\n",
    "    tweet = re.sub(r'^RT[\\s]+', '', tweet)\r\n",
    "    # remove hyperlinks\r\n",
    "    tweet = re.sub(r'https?:\\/\\/.*[\\r\\n]*', '', tweet)\r\n",
    "    # remove hashtags\r\n",
    "    # only removing the hash # sign from the word\r\n",
    "    tweet = re.sub(r'#', '', tweet)\r\n",
    "    # tokenize tweets\r\n",
    "\r\n",
    "\r\n",
    "    tokenizer = TweetTokenizer(preserve_case=False, strip_handles=True,\r\n",
    "                               reduce_len=True)\r\n",
    "    tweet_tokens = tokenizer.tokenize(tweet)\r\n",
    "\r\n",
    "    tweets_clean = []\r\n",
    "    for word in tweet_tokens:\r\n",
    "        if word not in stopwords_english and word not in string.punctuation:\r\n",
    "            stem_word = stemmer.stem(word)\r\n",
    "            tweets_clean.append(stem_word)\r\n",
    "    return tweets_clean"
   ],
   "outputs": [],
   "metadata": {
    "id": "VOkRSbEw1Shr",
    "colab_type": "code",
    "colab": {}
   }
  },
  {
   "cell_type": "code",
   "execution_count": 5,
   "source": [
    "def calc_freqs(tweets, ys):\r\n",
    "    \"\"\"\r\n",
    "    Input:\r\n",
    "        tweets: a list of tweets\r\n",
    "        ys: an m x 1 array with the sentiment label of each tweet\r\n",
    "            (either 0 or 1)\r\n",
    "    Output:\r\n",
    "        freqs: a dictionary mapping each (word, sentiment) pair to its\r\n",
    "        frequency\r\n",
    "    \"\"\"\r\n",
    "    yslist = np.squeeze(ys).tolist()\r\n",
    "    freqs = {}\r\n",
    "\r\n",
    "    for y, tweet in zip(yslist, tweets):\r\n",
    "        for word in process_tweet(tweet=tweet):\r\n",
    "            pair = (word, y)\r\n",
    "            if pair in freqs:\r\n",
    "                freqs[pair] += 1\r\n",
    "            else:\r\n",
    "                freqs[pair] = 1\r\n",
    "    return freqs"
   ],
   "outputs": [],
   "metadata": {}
  },
  {
   "cell_type": "markdown",
   "source": [
    "# Split the data"
   ],
   "metadata": {}
  },
  {
   "cell_type": "code",
   "execution_count": 6,
   "source": [
    "all_positive_tweets = twitter_samples.strings(\"positive_tweets.json\")\r\n",
    "all_negative_tweets = twitter_samples.strings(\"negative_tweets.json\")\r\n",
    "\r\n",
    "# spliting of the data\r\n",
    "test_pos = all_positive_tweets[4000:]\r\n",
    "train_pos = all_positive_tweets[:4000]\r\n",
    "test_neg = all_negative_tweets[4000:]\r\n",
    "train_neg = all_negative_tweets[:4000]\r\n",
    "\r\n",
    "x_train = train_pos + train_neg\r\n",
    "x_test = test_pos + test_neg"
   ],
   "outputs": [],
   "metadata": {}
  },
  {
   "cell_type": "code",
   "execution_count": 7,
   "source": [
    "# similarly create labels of training and testing data\r\n",
    "y_train = np.append(np.ones((len(train_pos), 1)), np.zeros((len(train_neg), 1)), axis=0)\r\n",
    "y_test = np.append(np.ones((len(test_pos), 1)), np.zeros((len(test_neg), 1)), axis=0)"
   ],
   "outputs": [],
   "metadata": {}
  },
  {
   "cell_type": "code",
   "execution_count": 8,
   "source": [
    "freqs = calc_freqs(x_train, y_train)"
   ],
   "outputs": [],
   "metadata": {}
  },
  {
   "cell_type": "code",
   "execution_count": 9,
   "source": [
    "def extract_features(tweet, freqs):\r\n",
    "    '''\r\n",
    "    Input: \r\n",
    "        tweet: a list of words for one tweet\r\n",
    "        freqs: a dictionary corresponding to the frequencies of each tuple (word, label)\r\n",
    "    Output: \r\n",
    "        x: a feature vector of dimension (1,2)\r\n",
    "    '''\r\n",
    "    # tokenizes, stems, and removes stopwords\r\n",
    "    #############################################################\r\n",
    "    word_l =  process_tweet(tweet)\r\n",
    "    \r\n",
    "    x = np.zeros((1, 2)) \r\n",
    "        \r\n",
    "    # loop through each word in the list of words\r\n",
    "    for word in word_l:\r\n",
    "        \r\n",
    "        # increment the word count for the positive label 1\r\n",
    "        x[0,0] += freqs.get((word, 1.0),0)\r\n",
    "        \r\n",
    "        # increment the word count for the negative label 0\r\n",
    "        x[0,1] += freqs.get((word, 0.0),0)\r\n",
    "        \r\n",
    "    assert(x.shape == (1, 2))\r\n",
    "    return x"
   ],
   "outputs": [],
   "metadata": {}
  },
  {
   "cell_type": "markdown",
   "source": [
    "# Create Model Class"
   ],
   "metadata": {}
  },
  {
   "cell_type": "code",
   "execution_count": 10,
   "source": [
    "class TweetLogisticRegressionModel:\r\n",
    "    def fit(self, x, y, freq, alpha = 1e-4, epochs = 30, threshold_val = 0.5, record_epoch = False):\r\n",
    "        self._inputs = x\r\n",
    "        self._tlen = len(y)\r\n",
    "        self._freq = freq\r\n",
    "        self._shape = 2\r\n",
    "        self.threshold_val = threshold_val\r\n",
    "\r\n",
    "        # return sample of standard normal distribution\r\n",
    "        self._bias = tf.Variable(np.random.randn(1), name=\"Bias\")\r\n",
    "        self._weights = tf.Variable(np.random.randn(1, self._shape), name= \"Weight\")\r\n",
    "        self._tinit = tf.compat.v1.global_variables_initializer()\r\n",
    "\r\n",
    "        self._targets = y\r\n",
    "        self.alpha = alpha\r\n",
    "        self.epochs = epochs\r\n",
    "        self._repoch = record_epoch\r\n",
    "        self.__trainModel()\r\n",
    "        return\r\n",
    "\r\n",
    "    def __initSaver(self):\r\n",
    "        saver = tf.compat.v1.train.Saver()\r\n",
    "        self._saver = saver\r\n",
    "        self._sesspath = \"TSession\"\r\n",
    "        return\r\n",
    "\r\n",
    "    def threshold(self, val):\r\n",
    "        if val >= self.threshold_val:\r\n",
    "            return 1\r\n",
    "        return 0\r\n",
    "\r\n",
    "    def predict(self, indata):\r\n",
    "        with tf.compat.v1.Session() as sess:\r\n",
    "            self._saver.restore(sess, save_path= self._sesspath)\r\n",
    "            indata = self.__transform_data(indata)\r\n",
    "            return sess.run(tf.nn.sigmoid(tf.add(tf.matmul(indata, self._weights, transpose_b=True), self._bias)))\r\n",
    "        print(\"Failed to retreive session\")\r\n",
    "        return\r\n",
    "    \r\n",
    "    def getAccDets(self):\r\n",
    "        if self._repoch:\r\n",
    "            return self.__accurary_det\r\n",
    "        return\r\n",
    "    \r\n",
    "    def __trainModel(self):\r\n",
    "        if self._repoch:\r\n",
    "            self._err = []\r\n",
    "            self._precs = []\r\n",
    "            self.__accurary_det = []\r\n",
    "\r\n",
    "        # model of Logistic Regression of tensorflow\r\n",
    "        logi = tf.nn.sigmoid(tf.add(tf.matmul(self._inputs, b= self._weights, transpose_b= True), self._bias))\r\n",
    "        err = tf.nn.sigmoid_cross_entropy_with_logits(logits= logi, labels= self._targets)\r\n",
    "        temp = tf.compat.v1.train.GradientDescentOptimizer(learning_rate=self.alpha).minimize(err)\r\n",
    "        self.__initSaver()\r\n",
    "        with tf.compat.v1.Session() as sess:\r\n",
    "            sess.run(self._tinit)\r\n",
    "            print(f\"Bias: {sess.run(self._bias)}\")\r\n",
    "            print(f\"Weights: {sess.run(self._weights)}\")\r\n",
    "            for epoch in range(self.epochs):\r\n",
    "                sess.run(temp)\r\n",
    "                __preds = sess.run(logi)\r\n",
    "                acc = ((__preds == self._targets).sum()) / self._tlen\r\n",
    "                if self._repoch:\r\n",
    "                    self.__accurary_det.append(acc)\r\n",
    "                if epoch % 10 == 0:\r\n",
    "                    print(f\"Accuracy: {acc}\")\r\n",
    "            self._saver.save(sess, self._sesspath)\r\n",
    "        return"
   ],
   "outputs": [],
   "metadata": {}
  },
  {
   "cell_type": "code",
   "execution_count": 11,
   "source": [
    "X = np.zeros((len(x_train), 2))\r\n",
    "for i in range(len(x_train)):\r\n",
    "    X[i, :] = extract_features(x_train[i], freqs)\r\n",
    "\r\n",
    "model = TweetLogisticRegressionModel()\r\n",
    "model.fit(x=X, y= y_train, freq=freqs, alpha= 0.01, record_epoch=True, epochs= 100)"
   ],
   "outputs": [
    {
     "output_type": "stream",
     "name": "stdout",
     "text": [
      "Bias: [-0.22068453]\n",
      "Weights: [[-1.33964064  0.5113746 ]]\n",
      "Accuracy: 0.4945\n",
      "Accuracy: 0.4945\n",
      "Accuracy: 0.4945\n",
      "Accuracy: 0.4945\n",
      "Accuracy: 0.4945\n",
      "Accuracy: 0.4945\n",
      "Accuracy: 0.4945\n",
      "Accuracy: 0.4945\n",
      "Accuracy: 0.4945\n",
      "Accuracy: 0.4945\n"
     ]
    }
   ],
   "metadata": {}
  }
 ],
 "metadata": {
  "orig_nbformat": 4,
  "language_info": {
   "name": "python",
   "version": "3.9.2",
   "mimetype": "text/x-python",
   "codemirror_mode": {
    "name": "ipython",
    "version": 3
   },
   "pygments_lexer": "ipython3",
   "nbconvert_exporter": "python",
   "file_extension": ".py"
  },
  "kernelspec": {
   "name": "python3",
   "display_name": "Python 3.9.2 64-bit"
  },
  "interpreter": {
   "hash": "dcacb0086e9a4f4eabd41c33bf4faac5ea0a3337ed3f5eff0680afa930572c04"
  }
 },
 "nbformat": 4,
 "nbformat_minor": 2
}