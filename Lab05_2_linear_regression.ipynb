{
 "cells": [
  {
   "cell_type": "code",
   "execution_count": 3,
   "source": [
    "import numpy as np\r\n",
    "import tensorflow as tf"
   ],
   "outputs": [],
   "metadata": {}
  },
  {
   "cell_type": "code",
   "execution_count": 4,
   "source": [
    "inputs = np.array([[73, 67, 43], [91, 88, 64], [87, 134, 58], [102, 43, 37], [69, 96, 70],[73, 67, 43], [91, 88, 64], \r\n",
    "                   [87, 134, 58], [102, 43, 37], [69, 96, 70], [73, 67, 43], [91, 88, 64], [87, 134, 58], [102, 43, 37], \r\n",
    "                   [69, 96, 70]], dtype='float64')\r\n",
    "\r\n",
    "targets = np.array([[56, 70], [81, 101], [119, 133], [22, 37], [103, 119],[56, 70], [81, 101], [119, 133], [22, 37], \r\n",
    "                    [103, 119],[56, 70], [81, 101], [119, 133], [22, 37], [103, 119]], dtype='float64')"
   ],
   "outputs": [],
   "metadata": {}
  },
  {
   "cell_type": "code",
   "execution_count": 5,
   "source": [
    "inputs = tf.Variable(inputs)\r\n",
    "targets = tf.Variable(targets)\r\n",
    "print(\"targets :\\n\",targets)"
   ],
   "outputs": [
    {
     "output_type": "stream",
     "name": "stdout",
     "text": [
      "targets :\n",
      " <tf.Variable 'Variable:0' shape=(15, 2) dtype=float64, numpy=\n",
      "array([[ 56.,  70.],\n",
      "       [ 81., 101.],\n",
      "       [119., 133.],\n",
      "       [ 22.,  37.],\n",
      "       [103., 119.],\n",
      "       [ 56.,  70.],\n",
      "       [ 81., 101.],\n",
      "       [119., 133.],\n",
      "       [ 22.,  37.],\n",
      "       [103., 119.],\n",
      "       [ 56.,  70.],\n",
      "       [ 81., 101.],\n",
      "       [119., 133.],\n",
      "       [ 22.,  37.],\n",
      "       [103., 119.]])>\n"
     ]
    }
   ],
   "metadata": {}
  },
  {
   "cell_type": "code",
   "execution_count": 6,
   "source": [
    "v = np.random.rand(3,2)\r\n",
    "r = np.random.randn(2)\r\n",
    "v = tf.Variable(v)\r\n",
    "r = tf.Variable(r)\r\n",
    "\r\n",
    "print(v)\r\n",
    "print(\"\\n\",r)"
   ],
   "outputs": [
    {
     "output_type": "stream",
     "name": "stdout",
     "text": [
      "<tf.Variable 'Variable:0' shape=(3, 2) dtype=float64, numpy=\n",
      "array([[0.63665438, 0.97361821],\n",
      "       [0.51990612, 0.53113836],\n",
      "       [0.88958381, 0.21731638]])>\n",
      "\n",
      " <tf.Variable 'Variable:0' shape=(2,) dtype=float64, numpy=array([ 0.44440366, -1.36986595])>\n"
     ]
    }
   ],
   "metadata": {}
  },
  {
   "cell_type": "code",
   "execution_count": 7,
   "source": [
    "def model(s):\r\n",
    "    return s @ v + r"
   ],
   "outputs": [],
   "metadata": {}
  },
  {
   "cell_type": "code",
   "execution_count": 8,
   "source": [
    "prediction = model(inputs)\r\n",
    "print(prediction)"
   ],
   "outputs": [
    {
     "output_type": "stream",
     "name": "stdout",
     "text": [
      "tf.Tensor(\n",
      "[[120.00598699 114.63513783]\n",
      " [161.06505423 147.87781513]\n",
      " [177.09661529 167.11180846]\n",
      " [120.65371438 128.81884713]\n",
      " [156.55540962 132.0112196 ]\n",
      " [120.00598699 114.63513783]\n",
      " [161.06505423 147.87781513]\n",
      " [177.09661529 167.11180846]\n",
      " [120.65371438 128.81884713]\n",
      " [156.55540962 132.0112196 ]\n",
      " [120.00598699 114.63513783]\n",
      " [161.06505423 147.87781513]\n",
      " [177.09661529 167.11180846]\n",
      " [120.65371438 128.81884713]\n",
      " [156.55540962 132.0112196 ]], shape=(15, 2), dtype=float64)\n"
     ]
    }
   ],
   "metadata": {}
  },
  {
   "cell_type": "code",
   "execution_count": 9,
   "source": [
    "def mse(t1,t2):\r\n",
    "    return tf.reduce_mean(tf.square(t1 - t2))\r\n",
    "print(mse(prediction,targets))"
   ],
   "outputs": [
    {
     "output_type": "stream",
     "name": "stdout",
     "text": [
      "tf.Tensor(4043.6566328503386, shape=(), dtype=float64)\n"
     ]
    }
   ],
   "metadata": {}
  },
  {
   "cell_type": "code",
   "execution_count": 10,
   "source": [
    "epochs = 40\r\n",
    "for epoch_count in range(epochs):\r\n",
    "    \r\n",
    "    with tf.GradientTape(persistent=True) as t:\r\n",
    "        current_loss = mse(targets, model(inputs))\r\n",
    "\r\n",
    "    v1 = t.gradient(current_loss,v)\r\n",
    "    r1 = t.gradient(current_loss,r)\r\n",
    "\r\n",
    "    v.assign_sub(1e-4 * v1)\r\n",
    "    r.assign_sub(1e-4 * r1)\r\n",
    "        \r\n",
    "    print(f\" \\n Epoch count: {epoch_count} \\n Loss value: {current_loss.numpy()}\")\r\n"
   ],
   "outputs": [
    {
     "output_type": "stream",
     "name": "stdout",
     "text": [
      " \n",
      " Epoch count: 0 \n",
      " Loss value: 4043.6566328503386\n",
      " \n",
      " Epoch count: 1 \n",
      " Loss value: 2728.7788635057213\n",
      " \n",
      " Epoch count: 2 \n",
      " Loss value: 1882.9683091418833\n",
      " \n",
      " Epoch count: 3 \n",
      " Loss value: 1333.4318901124977\n",
      " \n",
      " Epoch count: 4 \n",
      " Loss value: 971.7245105871523\n",
      " \n",
      " Epoch count: 5 \n",
      " Loss value: 729.6994032262205\n",
      " \n",
      " Epoch count: 6 \n",
      " Loss value: 564.4575497767233\n",
      " \n",
      " Epoch count: 7 \n",
      " Loss value: 448.9275266825819\n",
      " \n",
      " Epoch count: 8 \n",
      " Loss value: 365.9682828238932\n",
      " \n",
      " Epoch count: 9 \n",
      " Loss value: 304.6763415079684\n",
      " \n",
      " Epoch count: 10 \n",
      " Loss value: 258.0725131238905\n",
      " \n",
      " Epoch count: 11 \n",
      " Loss value: 221.65200287963518\n",
      " \n",
      " Epoch count: 12 \n",
      " Loss value: 192.47498732877455\n",
      " \n",
      " Epoch count: 13 \n",
      " Loss value: 168.59559753484487\n",
      " \n",
      " Epoch count: 14 \n",
      " Loss value: 148.7028638422354\n",
      " \n",
      " Epoch count: 15 \n",
      " Loss value: 131.89448737590797\n",
      " \n",
      " Epoch count: 16 \n",
      " Loss value: 117.53390428263033\n",
      " \n",
      " Epoch count: 17 \n",
      " Loss value: 105.15963030090857\n",
      " \n",
      " Epoch count: 18 \n",
      " Loss value: 94.42746323164883\n",
      " \n",
      " Epoch count: 19 \n",
      " Loss value: 85.07337412843304\n",
      " \n",
      " Epoch count: 20 \n",
      " Loss value: 76.8894579084986\n",
      " \n",
      " Epoch count: 21 \n",
      " Loss value: 69.70815621798997\n",
      " \n",
      " Epoch count: 22 \n",
      " Loss value: 63.391745166773454\n",
      " \n",
      " Epoch count: 23 \n",
      " Loss value: 57.82519551214538\n",
      " \n",
      " Epoch count: 24 \n",
      " Loss value: 52.91121173869261\n",
      " \n",
      " Epoch count: 25 \n",
      " Loss value: 48.56669487570416\n",
      " \n",
      " Epoch count: 26 \n",
      " Loss value: 44.72014919095847\n",
      " \n",
      " Epoch count: 27 \n",
      " Loss value: 41.309726036920594\n",
      " \n",
      " Epoch count: 28 \n",
      " Loss value: 38.28170723969193\n",
      " \n",
      " Epoch count: 29 \n",
      " Loss value: 35.58929938469669\n",
      " \n",
      " Epoch count: 30 \n",
      " Loss value: 33.19165411252266\n",
      " \n",
      " Epoch count: 31 \n",
      " Loss value: 31.05305745453223\n",
      " \n",
      " Epoch count: 32 \n",
      " Loss value: 29.142249176306436\n",
      " \n",
      " Epoch count: 33 \n",
      " Loss value: 27.431844735221674\n",
      " \n",
      " Epoch count: 34 \n",
      " Loss value: 25.897840104275126\n",
      " \n",
      " Epoch count: 35 \n",
      " Loss value: 24.519184817688497\n",
      " \n",
      " Epoch count: 36 \n",
      " Loss value: 23.277412067422762\n",
      " \n",
      " Epoch count: 37 \n",
      " Loss value: 22.15631709929003\n",
      " \n",
      " Epoch count: 38 \n",
      " Loss value: 21.14167688724972\n",
      " \n",
      " Epoch count: 39 \n",
      " Loss value: 20.22100533641175\n"
     ]
    }
   ],
   "metadata": {}
  }
 ],
 "metadata": {
  "orig_nbformat": 4,
  "language_info": {
   "name": "python",
   "version": "3.9.2",
   "mimetype": "text/x-python",
   "codemirror_mode": {
    "name": "ipython",
    "version": 3
   },
   "pygments_lexer": "ipython3",
   "nbconvert_exporter": "python",
   "file_extension": ".py"
  },
  "kernelspec": {
   "name": "python3",
   "display_name": "Python 3.9.2 64-bit"
  },
  "interpreter": {
   "hash": "dcacb0086e9a4f4eabd41c33bf4faac5ea0a3337ed3f5eff0680afa930572c04"
  }
 },
 "nbformat": 4,
 "nbformat_minor": 2
}