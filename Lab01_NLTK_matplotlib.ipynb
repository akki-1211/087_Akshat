{
 "cells": [
  {
   "cell_type": "code",
   "execution_count": 5,
   "source": [
    "# import libraries\r\n",
    "import nltk\r\n",
    "import matplotlib.pyplot as plt\r\n",
    "import pandas as pd\r\n",
    "\r\n",
    "nltk.download('punkt')\r\n",
    "nltk.download('stopwords')"
   ],
   "outputs": [
    {
     "output_type": "stream",
     "name": "stderr",
     "text": [
      "[nltk_data] Downloading package stopwords to\n",
      "[nltk_data]     C:\\Users\\Admin\\AppData\\Roaming\\nltk_data...\n",
      "[nltk_data]   Unzipping corpora\\stopwords.zip.\n"
     ]
    },
    {
     "output_type": "execute_result",
     "data": {
      "text/plain": [
       "True"
      ]
     },
     "metadata": {},
     "execution_count": 5
    }
   ],
   "metadata": {}
  },
  {
   "cell_type": "code",
   "execution_count": 2,
   "source": [
    "# Raw text Analysis\r\n",
    "sample_text = \"matplotlib.pyplot is a collection of functions that make matplotlib work like MATLAB. Each pyplot function makes some change to a figure: e.g., creates a figure, creates a plotting area in a figure, plots some lines in a plotting area, decorates the plot with labels, etc.\""
   ],
   "outputs": [],
   "metadata": {}
  },
  {
   "cell_type": "markdown",
   "source": [
    "## Tokenizing the string after lowercasing"
   ],
   "metadata": {}
  },
  {
   "cell_type": "code",
   "execution_count": 3,
   "source": [
    "sample_text = sample_text.lower()\r\n",
    "words = nltk.word_tokenize(sample_text)\r\n",
    "print(words)"
   ],
   "outputs": [
    {
     "output_type": "stream",
     "name": "stdout",
     "text": [
      "['matplotlib.pyplot', 'is', 'a', 'collection', 'of', 'functions', 'that', 'make', 'matplotlib', 'work', 'like', 'matlab', '.', 'each', 'pyplot', 'function', 'makes', 'some', 'change', 'to', 'a', 'figure', ':', 'e.g.', ',', 'creates', 'a', 'figure', ',', 'creates', 'a', 'plotting', 'area', 'in', 'a', 'figure', ',', 'plots', 'some', 'lines', 'in', 'a', 'plotting', 'area', ',', 'decorates', 'the', 'plot', 'with', 'labels', ',', 'etc', '.']\n"
     ]
    }
   ],
   "metadata": {}
  },
  {
   "cell_type": "markdown",
   "source": [
    "## Remove stopwords and punctuations"
   ],
   "metadata": {}
  },
  {
   "cell_type": "code",
   "execution_count": 6,
   "source": [
    "import string\r\n",
    "from nltk.corpus import stopwords\r\n",
    "\r\n",
    "stop_words = stopwords.words('english')\r\n",
    "punctuation = string.punctuation\r\n",
    "\r\n",
    "clean_text_tokens = []\r\n",
    "\r\n",
    "for word in words:\r\n",
    "    if (word not in stop_words and word not in punctuation):\r\n",
    "        clean_text_tokens.append(word)\r\n",
    "print(f'Tokens after removing stopwords and punctuations\\n{clean_text_tokens}')"
   ],
   "outputs": [
    {
     "output_type": "stream",
     "name": "stdout",
     "text": [
      "Tokens after removing stopwords and punctuations\n",
      "['matplotlib.pyplot', 'collection', 'functions', 'make', 'matplotlib', 'work', 'like', 'matlab', 'pyplot', 'function', 'makes', 'change', 'figure', 'e.g.', 'creates', 'figure', 'creates', 'plotting', 'area', 'figure', 'plots', 'lines', 'plotting', 'area', 'decorates', 'plot', 'labels', 'etc']\n"
     ]
    }
   ],
   "metadata": {}
  },
  {
   "cell_type": "markdown",
   "source": [
    "## Stemming"
   ],
   "metadata": {}
  },
  {
   "cell_type": "code",
   "execution_count": 7,
   "source": [
    "from nltk.stem.porter import PorterStemmer\r\n",
    "\r\n",
    "porter = PorterStemmer()\r\n",
    "stemmed = [porter.stem(word) for word in clean_text_tokens]\r\n",
    "print(\"Tokens after stemming.\")\r\n",
    "print(stemmed)"
   ],
   "outputs": [
    {
     "output_type": "stream",
     "name": "stdout",
     "text": [
      "Tokens after stemming.\n",
      "['matplotlib.pyplot', 'collect', 'function', 'make', 'matplotlib', 'work', 'like', 'matlab', 'pyplot', 'function', 'make', 'chang', 'figur', 'e.g.', 'creat', 'figur', 'creat', 'plot', 'area', 'figur', 'plot', 'line', 'plot', 'area', 'decor', 'plot', 'label', 'etc']\n"
     ]
    }
   ],
   "metadata": {}
  }
 ],
 "metadata": {
  "orig_nbformat": 4,
  "language_info": {
   "name": "python",
   "version": "3.9.2",
   "mimetype": "text/x-python",
   "codemirror_mode": {
    "name": "ipython",
    "version": 3
   },
   "pygments_lexer": "ipython3",
   "nbconvert_exporter": "python",
   "file_extension": ".py"
  },
  "kernelspec": {
   "name": "python3",
   "display_name": "Python 3.9.2 64-bit"
  },
  "interpreter": {
   "hash": "dcacb0086e9a4f4eabd41c33bf4faac5ea0a3337ed3f5eff0680afa930572c04"
  }
 },
 "nbformat": 4,
 "nbformat_minor": 2
}