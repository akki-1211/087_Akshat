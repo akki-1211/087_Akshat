{
 "cells": [
  {
   "cell_type": "code",
   "execution_count": 6,
   "source": [
    "# Importing needful libraries\r\n",
    "\r\n",
    "import numpy as np\r\n",
    "import pandas as pd\r\n",
    "import matplotlib.pyplot as plt\r\n",
    "from sklearn import datasets, preprocessing\r\n",
    "\r\n",
    "# naive and gaussian model\r\n",
    "from sklearn.naive_bayes import GaussianNB, MultinomialNB\r\n",
    "from sklearn.model_selection import train_test_split\r\n",
    "\r\n",
    "# for accuracy\r\n",
    "from sklearn import metrics\r\n",
    "\r\n",
    "# print precision and recall\r\n",
    "from sklearn.metrics import precision_score\r\n",
    "from sklearn.metrics import recall_score\r\n",
    "from sklearn.datasets import load_digits"
   ],
   "outputs": [],
   "metadata": {}
  },
  {
   "cell_type": "code",
   "execution_count": 7,
   "source": [
    "# Loading digits dataset from sklearn\r\n",
    "\r\n",
    "main_data = load_digits()\r\n",
    "\r\n",
    "plt.figure(figsize = (20, 20))\r\n",
    "\r\n",
    "for i in range(10):\r\n",
    "    plt.subplot(8, 8, i + 1)\r\n",
    "    plt.imshow(main_data.images[i])"
   ],
   "outputs": [
    {
     "output_type": "display_data",
     "data": {
      "image/png": "[encoded data removed]",
      "text/plain": [
       "<Figure size 1440x1440 with 10 Axes>"
      ]
     },
     "metadata": {
      "needs_background": "light"
     }
    }
   ],
   "metadata": {}
  },
  {
   "cell_type": "code",
   "execution_count": 8,
   "source": [
    "#Train Test Model with 80%-20%\r\n",
    "from sklearn.model_selection import train_test_split\r\n",
    "\r\n",
    "X_train, X_test, Y_train, Y_test = train_test_split(main_data.data, main_data.target, test_size = 0.20, random_state = 87) "
   ],
   "outputs": [],
   "metadata": {}
  },
  {
   "cell_type": "code",
   "execution_count": 9,
   "source": [
    "# Gaussina models\r\n",
    "\r\n",
    "gnb = GaussianNB()\r\n",
    "\r\n",
    "# train model\r\n",
    "gnb.fit(X_train, Y_train)\r\n",
    "\r\n",
    "# training completed\r\n",
    "Y_predicted = gnb.predict(X_test)\r\n",
    "\r\n",
    "print(f\"Accuracy :- {metrics.accuracy_score(Y_test, Y_predicted)}\")\r\n",
    "main_data.images[3]"
   ],
   "outputs": [
    {
     "output_type": "stream",
     "name": "stdout",
     "text": [
      "Accuracy :- 0.8472222222222222\n"
     ]
    },
    {
     "output_type": "execute_result",
     "data": {
      "text/plain": [
       "array([[ 0.,  0.,  7., 15., 13.,  1.,  0.,  0.],\n",
       "       [ 0.,  8., 13.,  6., 15.,  4.,  0.,  0.],\n",
       "       [ 0.,  2.,  1., 13., 13.,  0.,  0.,  0.],\n",
       "       [ 0.,  0.,  2., 15., 11.,  1.,  0.,  0.],\n",
       "       [ 0.,  0.,  0.,  1., 12., 12.,  1.,  0.],\n",
       "       [ 0.,  0.,  0.,  0.,  1., 10.,  8.,  0.],\n",
       "       [ 0.,  0.,  8.,  4.,  5., 14.,  9.,  0.],\n",
       "       [ 0.,  0.,  7., 13., 13.,  9.,  0.,  0.]])"
      ]
     },
     "metadata": {},
     "execution_count": 9
    }
   ],
   "metadata": {}
  },
  {
   "cell_type": "code",
   "execution_count": 10,
   "source": [
    "_, axes = plt.subplots(nrows=1, ncols=4, figsize=(10, 3))\r\n",
    "for ax, image, prediction in zip(axes, X_test, Y_predicted):\r\n",
    "    ax.set_axis_off()\r\n",
    "    image = image.reshape(8, 8)\r\n",
    "    ax.imshow(image, cmap=plt.cm.gray_r, interpolation='nearest')\r\n",
    "    ax.set_title(f'Prediction: {prediction}')"
   ],
   "outputs": [
    {
     "output_type": "display_data",
     "data": {
      "image/png": "[encoded data removed]",
      "text/plain": [
       "<Figure size 720x216 with 4 Axes>"
      ]
     },
     "metadata": {
      "needs_background": "light"
     }
    }
   ],
   "metadata": {}
  },
  {
   "cell_type": "code",
   "execution_count": 11,
   "source": [
    "print(f\"Classification report for classifier {gnb}:\\n\"\r\n",
    "      f\"{metrics.classification_report(Y_test, Y_predicted)}\\n\")"
   ],
   "outputs": [
    {
     "output_type": "stream",
     "name": "stdout",
     "text": [
      "Classification report for classifier GaussianNB():\n",
      "              precision    recall  f1-score   support\n",
      "\n",
      "           0       0.98      0.98      0.98        44\n",
      "           1       0.90      0.76      0.82        37\n",
      "           2       1.00      0.62      0.77        37\n",
      "           3       0.92      0.87      0.89        38\n",
      "           4       0.92      0.80      0.85        44\n",
      "           5       0.90      0.90      0.90        31\n",
      "           6       0.90      0.97      0.93        29\n",
      "           7       0.73      0.97      0.83        33\n",
      "           8       0.55      0.94      0.69        31\n",
      "           9       0.90      0.72      0.80        36\n",
      "\n",
      "    accuracy                           0.85       360\n",
      "   macro avg       0.87      0.85      0.85       360\n",
      "weighted avg       0.88      0.85      0.85       360\n",
      "\n",
      "\n"
     ]
    }
   ],
   "metadata": {}
  },
  {
   "cell_type": "code",
   "execution_count": 12,
   "source": [
    "disp = metrics.plot_confusion_matrix(gnb, X_test, Y_test)\r\n",
    "disp.figure_.suptitle(\"Confusion Matrix\")\r\n",
    "print(f\"Confusion matrix:\\n{disp.confusion_matrix}\")\r\n",
    "\r\n",
    "plt.show()"
   ],
   "outputs": [
    {
     "output_type": "stream",
     "name": "stdout",
     "text": [
      "Confusion matrix:\n",
      "[[43  0  0  0  1  0  0  0  0  0]\n",
      " [ 0 28  0  0  0  0  2  0  4  3]\n",
      " [ 0  2 23  0  0  0  0  0 12  0]\n",
      " [ 0  0  0 33  0  0  0  2  3  0]\n",
      " [ 1  0  0  0 35  1  1  5  1  0]\n",
      " [ 0  0  0  0  0 28  0  3  0  0]\n",
      " [ 0  0  0  0  0  1 28  0  0  0]\n",
      " [ 0  0  0  0  1  0  0 32  0  0]\n",
      " [ 0  1  0  0  0  0  0  1 29  0]\n",
      " [ 0  0  0  3  1  1  0  1  4 26]]\n"
     ]
    },
    {
     "output_type": "display_data",
     "data": {
      "image/png": "[encoded data removed]",
      "text/plain": [
       "<Figure size 432x288 with 2 Axes>"
      ]
     },
     "metadata": {
      "needs_background": "light"
     }
    }
   ],
   "metadata": {}
  }
 ],
 "metadata": {
  "orig_nbformat": 4,
  "language_info": {
   "name": "python",
   "version": "3.9.2",
   "mimetype": "text/x-python",
   "codemirror_mode": {
    "name": "ipython",
    "version": 3
   },
   "pygments_lexer": "ipython3",
   "nbconvert_exporter": "python",
   "file_extension": ".py"
  },
  "kernelspec": {
   "name": "python3",
   "display_name": "Python 3.9.2 64-bit"
  },
  "interpreter": {
   "hash": "dcacb0086e9a4f4eabd41c33bf4faac5ea0a3337ed3f5eff0680afa930572c04"
  }
 },
 "nbformat": 4,
 "nbformat_minor": 2
}