{
 "cells": [
  {
   "cell_type": "code",
   "execution_count": 1,
   "source": [
    "import numpy as np\r\n",
    "import pandas as pd\r\n",
    "import matplotlib.pyplot as plt\r\n",
    "from sklearn import datasets, preprocessing\r\n",
    "from sklearn.naive_bayes import GaussianNB, MultinomialNB"
   ],
   "outputs": [],
   "metadata": {}
  },
  {
   "cell_type": "code",
   "execution_count": 2,
   "source": [
    "dataset = pd.read_csv(\"PracticeDataSets/Dataset2.csv\")"
   ],
   "outputs": [],
   "metadata": {}
  },
  {
   "cell_type": "code",
   "execution_count": 3,
   "source": [
    "label_encoder = preprocessing.LabelEncoder()\r\n",
    "Y_rows=None\r\n",
    "for data_heading in dataset:\r\n",
    "  if data_heading!=\"Class\":\r\n",
    "    print(f\"\\n\\nHeading :- {data_heading}\")\r\n",
    "    dummy = pd.get_dummies(dataset[data_heading])\r\n",
    "    dataset = dataset.drop([data_heading],axis=1)\r\n",
    "    dataset = pd.concat([dataset,dummy],axis=1)\r\n",
    "  else:\r\n",
    "    Y_rows = label_encoder.fit_transform(dataset[data_heading])\r\n",
    "    dataset = dataset.drop([data_heading],axis=1)"
   ],
   "outputs": [
    {
     "output_type": "stream",
     "name": "stdout",
     "text": [
      "\n",
      "\n",
      "Heading :- Outlook\n",
      "\n",
      "\n",
      "Heading :- Temp\n",
      "\n",
      "\n",
      "Heading :- Wind\n",
      "\n",
      "\n",
      "Heading :- Humidity\n"
     ]
    }
   ],
   "metadata": {}
  },
  {
   "cell_type": "code",
   "execution_count": 4,
   "source": [
    "print(dataset,\"\\n\",Y_rows)"
   ],
   "outputs": [
    {
     "output_type": "stream",
     "name": "stdout",
     "text": [
      "    O  R  S  C  H  M  F  T  High  Low  Normal\n",
      "0   0  1  0  0  1  0  1  0     0    0       1\n",
      "1   0  1  0  0  1  0  0  1     1    0       0\n",
      "2   1  0  0  0  1  0  1  0     0    0       1\n",
      "3   0  0  1  0  0  1  1  0     0    0       1\n",
      "4   0  0  1  0  0  1  1  0     0    0       1\n",
      "5   0  0  1  0  0  1  0  1     0    1       0\n",
      "6   1  0  0  1  0  0  0  1     0    0       1\n",
      "7   0  1  0  1  0  0  1  0     0    0       1\n",
      "8   0  1  0  1  0  0  1  0     0    1       0\n",
      "9   0  0  1  0  0  1  1  0     1    0       0\n",
      "10  0  1  0  0  0  1  0  1     1    0       0\n",
      "11  1  0  0  0  0  1  0  1     0    1       0\n",
      "12  1  0  0  0  1  0  1  0     0    0       1\n",
      "13  0  0  1  0  0  1  0  1     0    0       1 \n",
      " [0 0 1 0 1 1 1 1 1 1 1 1 1 0]\n"
     ]
    }
   ],
   "metadata": {}
  },
  {
   "cell_type": "code",
   "execution_count": 5,
   "source": [
    "from sklearn.model_selection import train_test_split\r\n",
    "X_train, X_test, Y_train, Y_test = train_test_split(dataset, Y_rows, test_size = 0.25, random_state = 87)"
   ],
   "outputs": [],
   "metadata": {}
  },
  {
   "cell_type": "code",
   "execution_count": 6,
   "source": [
    "model = MultinomialNB()\r\n",
    "print(X_train,Y_train)\r\n",
    "model.fit(X_train, Y_train)\r\n",
    "\r\n",
    "# Predict Y from X_text\r\n",
    "Y_predicted = model.predict(X_test)\r\n",
    "print(X_test)\r\n",
    "print(Y_predicted)"
   ],
   "outputs": [
    {
     "output_type": "stream",
     "name": "stdout",
     "text": [
      "    O  R  S  C  H  M  F  T  High  Low  Normal\n",
      "7   0  1  0  1  0  0  1  0     0    0       1\n",
      "4   0  0  1  0  0  1  1  0     0    0       1\n",
      "1   0  1  0  0  1  0  0  1     1    0       0\n",
      "0   0  1  0  0  1  0  1  0     0    0       1\n",
      "3   0  0  1  0  0  1  1  0     0    0       1\n",
      "10  0  1  0  0  0  1  0  1     1    0       0\n",
      "13  0  0  1  0  0  1  0  1     0    0       1\n",
      "12  1  0  0  0  1  0  1  0     0    0       1\n",
      "11  1  0  0  0  0  1  0  1     0    1       0\n",
      "6   1  0  0  1  0  0  0  1     0    0       1 [1 1 0 0 0 1 0 1 1 1]\n",
      "   O  R  S  C  H  M  F  T  High  Low  Normal\n",
      "8  0  1  0  1  0  0  1  0     0    1       0\n",
      "5  0  0  1  0  0  1  0  1     0    1       0\n",
      "2  1  0  0  0  1  0  1  0     0    0       1\n",
      "9  0  0  1  0  0  1  1  0     1    0       0\n",
      "[1 1 1 0]\n"
     ]
    }
   ],
   "metadata": {}
  },
  {
   "cell_type": "code",
   "execution_count": 7,
   "source": [
    "from sklearn import metrics\r\n",
    "\r\n",
    "print(f\"Accuracy is :- {metrics.accuracy_score(Y_test, Y_predicted)}\")\r\n",
    "\r\n",
    "# print precision and recall\r\n",
    "from sklearn.metrics import precision_score\r\n",
    "from sklearn.metrics import recall_score\r\n",
    "\r\n",
    "\r\n",
    "precision = precision_score(Y_test, Y_predicted)\r\n",
    "recall = recall_score(Y_test, Y_predicted)\r\n",
    "\r\n",
    "\r\n",
    "print(f\"precision :- {precision}\")\r\n",
    "print(f\"recall :- {recall}\")"
   ],
   "outputs": [
    {
     "output_type": "stream",
     "name": "stdout",
     "text": [
      "Accuracy is :- 0.75\n",
      "precision :- 1.0\n",
      "recall :- 0.75\n"
     ]
    }
   ],
   "metadata": {}
  },
  {
   "cell_type": "code",
   "execution_count": 8,
   "source": [
    "# Excersice\r\n",
    "# Task1\r\n",
    "\r\n",
    "#Outlook Temp  Humi  Wind\r\n",
    "#Rainy , Mild, Normal, False\r\n",
    "output = model.predict([[0,1,0, 0,0,1, 1,0 ,0,0,1]])\r\n",
    "print(f\"final prediction :- {output}\")\r\n",
    "\r\n",
    "#Outlook Temp  Humi  Wind\r\n",
    "#Sunny , Cool, High, True\r\n",
    "output = model.predict([[0,0,1  ,1,0,0   ,0,1    ,1,0,0]])\r\n",
    "print(f\"final prediction :- {output}\")"
   ],
   "outputs": [
    {
     "output_type": "stream",
     "name": "stdout",
     "text": [
      "final prediction :- [1]\n",
      "final prediction :- [1]\n"
     ]
    }
   ],
   "metadata": {}
  }
 ],
 "metadata": {
  "orig_nbformat": 4,
  "language_info": {
   "name": "python",
   "version": "3.9.2",
   "mimetype": "text/x-python",
   "codemirror_mode": {
    "name": "ipython",
    "version": 3
   },
   "pygments_lexer": "ipython3",
   "nbconvert_exporter": "python",
   "file_extension": ".py"
  },
  "kernelspec": {
   "name": "python3",
   "display_name": "Python 3.9.2 64-bit"
  },
  "interpreter": {
   "hash": "dcacb0086e9a4f4eabd41c33bf4faac5ea0a3337ed3f5eff0680afa930572c04"
  }
 },
 "nbformat": 4,
 "nbformat_minor": 2
}