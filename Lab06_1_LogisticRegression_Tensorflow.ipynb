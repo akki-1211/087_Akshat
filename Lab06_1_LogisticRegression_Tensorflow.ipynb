{
 "cells": [
  {
   "cell_type": "code",
   "execution_count": 2,
   "source": [
    "import io\r\n",
    "import numpy as np\r\n",
    "import pandas as pd\r\n",
    "import matplotlib.pyplot as plt"
   ],
   "outputs": [],
   "metadata": {}
  },
  {
   "cell_type": "code",
   "execution_count": 10,
   "source": [
    "main_data = pd.read_csv(\"BuyComputer.csv\")\r\n",
    "main_data.drop(columns=['User ID',],axis=1,inplace=True)\r\n",
    "main_data.head(5)"
   ],
   "outputs": [
    {
     "output_type": "execute_result",
     "data": {
      "text/html": [
       "<div>\n",
       "<style scoped>\n",
       "    .dataframe tbody tr th:only-of-type {\n",
       "        vertical-align: middle;\n",
       "    }\n",
       "\n",
       "    .dataframe tbody tr th {\n",
       "        vertical-align: top;\n",
       "    }\n",
       "\n",
       "    .dataframe thead th {\n",
       "        text-align: right;\n",
       "    }\n",
       "</style>\n",
       "<table border=\"1\" class=\"dataframe\">\n",
       "  <thead>\n",
       "    <tr style=\"text-align: right;\">\n",
       "      <th></th>\n",
       "      <th>Age</th>\n",
       "      <th>EstimatedSalary</th>\n",
       "      <th>Purchased</th>\n",
       "    </tr>\n",
       "  </thead>\n",
       "  <tbody>\n",
       "    <tr>\n",
       "      <th>0</th>\n",
       "      <td>19</td>\n",
       "      <td>19000</td>\n",
       "      <td>0</td>\n",
       "    </tr>\n",
       "    <tr>\n",
       "      <th>1</th>\n",
       "      <td>35</td>\n",
       "      <td>20000</td>\n",
       "      <td>0</td>\n",
       "    </tr>\n",
       "    <tr>\n",
       "      <th>2</th>\n",
       "      <td>26</td>\n",
       "      <td>43000</td>\n",
       "      <td>0</td>\n",
       "    </tr>\n",
       "    <tr>\n",
       "      <th>3</th>\n",
       "      <td>27</td>\n",
       "      <td>57000</td>\n",
       "      <td>0</td>\n",
       "    </tr>\n",
       "    <tr>\n",
       "      <th>4</th>\n",
       "      <td>19</td>\n",
       "      <td>76000</td>\n",
       "      <td>0</td>\n",
       "    </tr>\n",
       "  </tbody>\n",
       "</table>\n",
       "</div>"
      ],
      "text/plain": [
       "   Age  EstimatedSalary  Purchased\n",
       "0   19            19000          0\n",
       "1   35            20000          0\n",
       "2   26            43000          0\n",
       "3   27            57000          0\n",
       "4   19            76000          0"
      ]
     },
     "metadata": {},
     "execution_count": 10
    }
   ],
   "metadata": {}
  },
  {
   "cell_type": "code",
   "execution_count": 17,
   "source": [
    "from sklearn.model_selection import train_test_split\r\n",
    "\r\n",
    "y = main_data.iloc[:,-1].values\r\n",
    "X = main_data.iloc[:,:-1].values\r\n",
    "n_samples, n_features = X.shape\r\n",
    "X_train, X_test, y_train, y_test = train_test_split(X, y, test_size=0.2, random_state=87)"
   ],
   "outputs": [],
   "metadata": {}
  },
  {
   "cell_type": "code",
   "execution_count": 18,
   "source": [
    "from sklearn.preprocessing import StandardScaler\r\n",
    "import torch\r\n",
    "\r\n",
    "sc = StandardScaler()\r\n",
    "X_train = sc.fit_transform(X_train)\r\n",
    "X_test = sc.transform(X_test)"
   ],
   "outputs": [],
   "metadata": {}
  },
  {
   "cell_type": "code",
   "execution_count": 19,
   "source": [
    "X_train = torch.from_numpy(X_train.astype(np.float32))\r\n",
    "X_test = torch.from_numpy(X_test.astype(np.float32))\r\n",
    "y_train = torch.from_numpy(y_train.astype(np.float32))\r\n",
    "y_test = torch.from_numpy(y_test.astype(np.float32))\r\n",
    "\r\n",
    "y_train = y_train.view(y_train.shape[0], 1)\r\n",
    "y_test = y_test.view(y_test.shape[0], 1)"
   ],
   "outputs": [],
   "metadata": {}
  },
  {
   "cell_type": "code",
   "execution_count": 20,
   "source": [
    "import torch.nn as nn\r\n",
    "\r\n",
    "class Model(nn.Module):\r\n",
    "    def __init__(self, n_input_features):\r\n",
    "        super(Model, self).__init__()\r\n",
    "        self.linear = nn.Linear(n_input_features, 1)\r\n",
    "\r\n",
    "    def forward(self, x):\r\n",
    "        y_pred = torch.sigmoid(self.linear(x))\r\n",
    "        return y_pred\r\n",
    "\r\n",
    "model = Model(n_features)"
   ],
   "outputs": [],
   "metadata": {}
  },
  {
   "cell_type": "code",
   "execution_count": 21,
   "source": [
    "num_epochs = 140\r\n",
    "learning_rate = 0.02\r\n",
    "criterion = nn.BCELoss()\r\n",
    "optimizer = torch.optim.SGD(model.parameters(), lr=learning_rate)"
   ],
   "outputs": [],
   "metadata": {}
  },
  {
   "cell_type": "code",
   "execution_count": 22,
   "source": [
    "for epoch in range(num_epochs):\r\n",
    "    y_pred = model(X_train)\r\n",
    "    loss = criterion(y_pred, y_train)\r\n",
    "\r\n",
    "    loss.backward()\r\n",
    "    optimizer.step()\r\n",
    "    optimizer.zero_grad()\r\n",
    "\r\n",
    "    if (epoch+1) % 10 == 0:\r\n",
    "        print(f'epoch: {epoch+1}, loss = {loss.item():.4f}')\r\n",
    "\r\n",
    "\r\n",
    "with torch.no_grad():\r\n",
    "    y_predicted = model(X_test)\r\n",
    "    y_predicted_cls = y_predicted.round()\r\n",
    "    acc = y_predicted_cls.eq(y_test).sum() / float(y_test.shape[0])\r\n",
    "    print(f'\\n Accuracy: {acc.item()*100:.2f}')"
   ],
   "outputs": [
    {
     "output_type": "stream",
     "name": "stdout",
     "text": [
      "epoch: 10, loss = 0.5873\n",
      "epoch: 20, loss = 0.5719\n",
      "epoch: 30, loss = 0.5579\n",
      "epoch: 40, loss = 0.5453\n",
      "epoch: 50, loss = 0.5338\n",
      "epoch: 60, loss = 0.5234\n",
      "epoch: 70, loss = 0.5139\n",
      "epoch: 80, loss = 0.5051\n",
      "epoch: 90, loss = 0.4971\n",
      "epoch: 100, loss = 0.4898\n",
      "epoch: 110, loss = 0.4830\n",
      "epoch: 120, loss = 0.4767\n",
      "epoch: 130, loss = 0.4708\n",
      "epoch: 140, loss = 0.4654\n",
      "\n",
      " Accuracy: 86.25\n"
     ]
    }
   ],
   "metadata": {}
  }
 ],
 "metadata": {
  "orig_nbformat": 4,
  "language_info": {
   "name": "python",
   "version": "3.9.2",
   "mimetype": "text/x-python",
   "codemirror_mode": {
    "name": "ipython",
    "version": 3
   },
   "pygments_lexer": "ipython3",
   "nbconvert_exporter": "python",
   "file_extension": ".py"
  },
  "kernelspec": {
   "name": "python3",
   "display_name": "Python 3.9.2 64-bit"
  },
  "interpreter": {
   "hash": "dcacb0086e9a4f4eabd41c33bf4faac5ea0a3337ed3f5eff0680afa930572c04"
  }
 },
 "nbformat": 4,
 "nbformat_minor": 2
}