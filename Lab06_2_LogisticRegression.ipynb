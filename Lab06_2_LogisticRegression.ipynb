{
 "cells": [
  {
   "cell_type": "code",
   "execution_count": 4,
   "source": [
    "from __future__ import absolute_import, division, print_function\r\n",
    "\r\n",
    "import tensorflow as tf\r\n",
    "\r\n",
    "import numpy as np"
   ],
   "outputs": [],
   "metadata": {}
  },
  {
   "cell_type": "markdown",
   "source": [
    "INFO:tensorflow:Enabling eager execution\r\n",
    "INFO:tensorflow:Enabling v2 tensorshape\r\n",
    "INFO:tensorflow:Enabling resource variables\r\n",
    "INFO:tensorflow:Enabling tensor equality\r\n",
    "INFO:tensorflow:Enabling control flow v2"
   ],
   "metadata": {}
  },
  {
   "cell_type": "markdown",
   "source": [
    "MNIST data set. MNIST data is a collection of hand-written digits that contains 60,000 examples for training and 10,000 examples for testing. The digits have been size-normalized and centered in a fixed-size image (28x28 pixels) with values from 0 to 255. \r\n",
    "\r\n",
    "Next for each image we will:\r\n",
    "\r\n",
    "1) convert it to float32\r\n",
    "2) normalized to [0, 1]\r\n",
    "3) flattened to a 1-D array of 784 features (28*28).\r\n",
    "\r\n"
   ],
   "metadata": {}
  },
  {
   "cell_type": "markdown",
   "source": [
    "## Step 2: Loading and Preparing the MNIST Data Set"
   ],
   "metadata": {}
  },
  {
   "cell_type": "code",
   "execution_count": 5,
   "source": [
    "from tensorflow.keras.datasets import mnist\r\n",
    "\r\n",
    "(x_train, y_train), (x_test, y_test) = mnist.load_data()\r\n",
    "\r\n",
    "# Convert to float32.\r\n",
    "x_train = np.array(x_train, np.float32)\r\n",
    "x_test = np.array(x_test, np.float32)\r\n",
    "\r\n",
    "\r\n",
    "# Flatten images to 1-D vector of 784 features (28*28).\r\n",
    "num_features=784\r\n",
    "x_train = x_train.reshape(-1, num_features)\r\n",
    "x_test = x_test.reshape(-1, num_features)\r\n",
    "\r\n",
    "# Normalize images value from [0, 255] to [0, 1].\r\n",
    "x_train = x_train / 255\r\n",
    "x_test = x_test / 255"
   ],
   "outputs": [
    {
     "output_type": "stream",
     "name": "stdout",
     "text": [
      "Downloading data from https://storage.googleapis.com/tensorflow/tf-keras-datasets/mnist.npz\n",
      "11493376/11490434 [==============================] - 7s 1us/step\n",
      "11501568/11490434 [==============================] - 7s 1us/step\n"
     ]
    }
   ],
   "metadata": {}
  },
  {
   "cell_type": "code",
   "execution_count": 6,
   "source": [
    "print(f\"Training data: {x_train.shape}\")\r\n",
    "print(f\"Testing data: {x_test.shape}\")\r\n",
    "print(f\"Training Label: {y_train.shape}\")\r\n",
    "print(f\"Testing Label: {y_test.shape}\")"
   ],
   "outputs": [
    {
     "output_type": "stream",
     "name": "stdout",
     "text": [
      "Training data: (60000, 784)\n",
      "Testing data: (10000, 784)\n",
      "Training Label: (60000,)\n",
      "Testing Label: (10000,)\n"
     ]
    }
   ],
   "metadata": {}
  },
  {
   "cell_type": "markdown",
   "source": [
    "## Step 3: Setting Up Hyperparameters and Data Set Parameters\r\n",
    "\r\n",
    "Initialize the model parameters. \r\n",
    "\r\n",
    "num_classes denotes the number of outputs, which is 10, as we have digits from 0 to 9 in the data set. \r\n",
    "\r\n",
    "num_features defines the number of input parameters, and we store 784 since each image contains 784 pixels."
   ],
   "metadata": {}
  },
  {
   "cell_type": "code",
   "execution_count": 7,
   "source": [
    "# MNIST dataset parameters.\r\n",
    "\r\n",
    "num_classes = 10 # 0 to 9 digits\r\n",
    "\r\n",
    "num_features = 784 # 28*28\r\n",
    "\r\n",
    "# Training parameters.\r\n",
    "\r\n",
    "learning_rate = 0.01\r\n",
    "\r\n",
    "training_steps = 1000\r\n",
    "\r\n",
    "batch_size = 256\r\n",
    "\r\n",
    "display_step = 50"
   ],
   "outputs": [],
   "metadata": {}
  },
  {
   "cell_type": "markdown",
   "source": [
    "## Step 4: Shuffling and Batching the Data\r\n",
    "\r\n",
    "We need to shuffle and batch the data before we start the actual training to avoid the model from getting biased by the data. This will allow our data to be more random and helps our model to gain higher accuracies with the test data.\r\n",
    "\r\n",
    "With the help of tf.data.Dataset.from_tensor_slices, we can get the slices of an array in the form of objects. \r\n",
    "\r\n",
    "The function shuffle(5000) randomizes the order of the data set’s examples. \r\n",
    "\r\n",
    "Here, 5000 denotes the variable shuffle_buffer, which tells the model to pick a sample randomly from 1 to 5000 samples. \r\n",
    "\r\n",
    "After that, there are only 4999 samples left in the buffer, so the sample 5001 gets added to the buffer. "
   ],
   "metadata": {}
  },
  {
   "cell_type": "code",
   "execution_count": 8,
   "source": [
    "# Use tf.data API to shuffle and batch data.\r\n",
    "num_batches = int(x_train.shape[0] / batch_size)\r\n",
    "\r\n",
    "train_data = tf.data.Dataset.from_tensor_slices((x_train, y_train))\r\n",
    "train_data = train_data.repeat().shuffle(5000).batch(batch_size).prefetch(1)"
   ],
   "outputs": [],
   "metadata": {}
  },
  {
   "cell_type": "markdown",
   "source": [
    "## Step 5: Initializing Weights and Biases\r\n",
    "\r\n",
    "We now initialize the weights vector and bias vector with ones and zeros."
   ],
   "metadata": {}
  },
  {
   "cell_type": "code",
   "execution_count": 9,
   "source": [
    "# Weight of shape [784, 10], the 28*28 image features, and a total number of classes.\r\n",
    "W = tf.Variable(np.random.randn(784, 10).astype(np.float32))\r\n",
    "# X = tf.placeholder(tf.float32,[None,784])\r\n",
    "# Y = tf.placeholder(tf.float32, [None,10])\r\n",
    "\r\n",
    "# Bias of shape [10], the total number of classes.\r\n",
    "B = tf.Variable(np.random.randn(10).astype(np.float32))"
   ],
   "outputs": [],
   "metadata": {}
  },
  {
   "cell_type": "markdown",
   "source": [
    "## Step 6: Defining Logistic Regression and Cost Function\r\n",
    "\r\n",
    "We define the logistic_regression function below, which converts the inputs into a probability distribution proportional to the exponents of the inputs using the softmax function. The softmax function, which is implemented using the function tf.nn.softmax, also makes sure that the sum of all the inputs equals one."
   ],
   "metadata": {}
  },
  {
   "cell_type": "code",
   "execution_count": 13,
   "source": [
    "# Logistic regression (Wx + b).\r\n",
    "\r\n",
    "def logistic_regression(x):\r\n",
    "    # Apply softmax to normalize the logits to a probability distribution.\r\n",
    "    return tf.nn.softmax(tf.add(tf.matmul(x, W), B))\r\n",
    "\r\n",
    "# Cross-Entropy loss function.\r\n",
    "\r\n",
    "def cross_entropy(y_pred, y_true):\r\n",
    "    # Encode label to a one hot vector.\r\n",
    "    y_true = tf.one_hot(y_true, depth= num_classes) \r\n",
    "    \r\n",
    "    # Clip prediction values to avoid log(0) error.\r\n",
    "    y_pred = tf.clip_by_value(y_pred, 1e-9, 1.)\r\n",
    "\r\n",
    "    # Compute cross-entropy.\r\n",
    "    ce_loss = tf.reduce_mean(-tf.reduce_sum(y_true * tf.math.log(y_pred)))\r\n",
    "    return ce_loss"
   ],
   "outputs": [],
   "metadata": {}
  },
  {
   "cell_type": "markdown",
   "source": [
    "## Step 7: Defining Optimizers and Accuracy Metrics\r\n",
    "When we compute the output, it gives us the probability of the given data to fit a particular class of output. \r\n",
    "\r\n",
    "We consider the correct prediction as to the class having the highest probability. \r\n",
    "\r\n",
    "We compute this using the function tf.argmax. \r\n",
    "\r\n",
    "We also define the stochastic gradient descent as the optimizer from several optimizers present in TensorFlow. We do this using the function tf.optimizers.SGD. \r\n",
    "\r\n",
    "This function takes in the learning rate as its input, which defines how fast the model should reach its minimum loss or gain the highest accuracy."
   ],
   "metadata": {}
  },
  {
   "cell_type": "code",
   "execution_count": 14,
   "source": [
    "# Accuracy metric.\r\n",
    "def accuracy(y_pred, y_true):\r\n",
    "    # Predicted class is the index of the highest score in prediction vector (i.e. argmax).\r\n",
    "    correct_prediction = tf.equal(tf.argmax(y_pred, 1), tf.cast(y_true, tf.int64))\r\n",
    "    return tf.reduce_mean(tf.cast(correct_prediction, tf.float32))"
   ],
   "outputs": [],
   "metadata": {}
  },
  {
   "cell_type": "markdown",
   "source": [
    "## Step 8: Optimization Process and Updating Weights and Biases\r\n",
    "Now we define the run_optimization() method where we update the weights of our model. We calculate the predictions using the logistic_regression(x) method by taking the inputs and find out the loss generated by comparing the predicted value and the original value present in the data set. Next, we compute the gradients using and update the weights of the model with our stochastic gradient descent optimizer."
   ],
   "metadata": {}
  },
  {
   "cell_type": "code",
   "execution_count": 15,
   "source": [
    "# Optimization process. \r\n",
    "\r\n",
    "optimizer = tf.optimizers.SGD(learning_rate=learning_rate)\r\n",
    "\r\n",
    "def run_optimization(x, y):\r\n",
    "\r\n",
    "# Wrap computation inside a GradientTape for automatic differentiation.\r\n",
    "    with tf.GradientTape() as gt:\r\n",
    "        pred = logistic_regression(x)\r\n",
    "        loss = cross_entropy(pred, y)\r\n",
    "\r\n",
    "    # Compute gradients.\r\n",
    "    gradients = gt.gradient(loss, [W, B])\r\n",
    "\r\n",
    "\r\n",
    "    # Stochastic gradient descent optimizer.\r\n",
    "\r\n",
    "    \r\n",
    "    \r\n",
    "    # Update W and b following gradients.\r\n",
    "    optimizer.apply_gradients(zip(gradients, [W, B]))"
   ],
   "outputs": [],
   "metadata": {}
  },
  {
   "cell_type": "markdown",
   "source": [
    "## Step 9: The Training Loop"
   ],
   "metadata": {}
  },
  {
   "cell_type": "code",
   "execution_count": 16,
   "source": [
    "# Run training for the given number of steps.\r\n",
    "\r\n",
    "for step, (batch_x, batch_y) in enumerate(train_data.take(training_steps), 1):\r\n",
    "\r\n",
    "    # Run the optimization to update W and b values.\r\n",
    "\r\n",
    "    run_optimization(batch_x, batch_y)\r\n",
    "\r\n",
    "    \r\n",
    "\r\n",
    "    if step % display_step == 0:\r\n",
    "        #Obtain Predictions\r\n",
    "        pred = logistic_regression(batch_x)\r\n",
    "        #Compute loss\r\n",
    "        loss = cross_entropy(pred, batch_y)\r\n",
    "        #Compute Accuracy\r\n",
    "        acc = accuracy(pred, batch_y)\r\n",
    "        #print accuracy\r\n",
    "        print(f\"Step: {step}, loss: {loss}, accuracy: {acc}\")"
   ],
   "outputs": [
    {
     "output_type": "stream",
     "name": "stdout",
     "text": [
      "Step: 50, loss: 436.8653564453125, accuracy: 0.73828125\n",
      "Step: 100, loss: 254.49533081054688, accuracy: 0.82421875\n",
      "Step: 150, loss: 234.816650390625, accuracy: 0.8203125\n",
      "Step: 200, loss: 119.01788330078125, accuracy: 0.89453125\n",
      "Step: 250, loss: 124.41816711425781, accuracy: 0.8828125\n",
      "Step: 300, loss: 133.39852905273438, accuracy: 0.90625\n",
      "Step: 350, loss: 167.90383911132812, accuracy: 0.8671875\n",
      "Step: 400, loss: 94.09022521972656, accuracy: 0.89453125\n",
      "Step: 450, loss: 83.27667999267578, accuracy: 0.9453125\n",
      "Step: 500, loss: 95.55399322509766, accuracy: 0.90234375\n",
      "Step: 550, loss: 59.33572006225586, accuracy: 0.93359375\n",
      "Step: 600, loss: 109.09690856933594, accuracy: 0.91015625\n",
      "Step: 650, loss: 136.3812255859375, accuracy: 0.890625\n",
      "Step: 700, loss: 72.14173126220703, accuracy: 0.9375\n",
      "Step: 750, loss: 50.18913269042969, accuracy: 0.95703125\n",
      "Step: 800, loss: 70.10514068603516, accuracy: 0.93359375\n",
      "Step: 850, loss: 91.20799255371094, accuracy: 0.921875\n",
      "Step: 900, loss: 129.60890197753906, accuracy: 0.90234375\n",
      "Step: 950, loss: 70.30421447753906, accuracy: 0.92578125\n",
      "Step: 1000, loss: 68.41764831542969, accuracy: 0.91796875\n"
     ]
    }
   ],
   "metadata": {}
  },
  {
   "cell_type": "markdown",
   "source": [
    "## Step 10: Testing Model Accuracy Using the Test Data\r\n",
    "\r\n",
    "Finally, we check the model accuracy by sending the test data set into our model and compute the accuracy using the accuracy function that we defined earlier."
   ],
   "metadata": {}
  },
  {
   "cell_type": "code",
   "execution_count": 17,
   "source": [
    "# Test model on validation set.\r\n",
    "pred = logistic_regression(x_test)\r\n",
    "accu = accuracy(pred, y_test)\r\n",
    "print(f\"Accuracy: {accu}\")"
   ],
   "outputs": [
    {
     "output_type": "stream",
     "name": "stdout",
     "text": [
      "Accuracy: 0.9060999751091003\n"
     ]
    }
   ],
   "metadata": {}
  }
 ],
 "metadata": {
  "orig_nbformat": 4,
  "language_info": {
   "name": "python",
   "version": "3.9.2",
   "mimetype": "text/x-python",
   "codemirror_mode": {
    "name": "ipython",
    "version": 3
   },
   "pygments_lexer": "ipython3",
   "nbconvert_exporter": "python",
   "file_extension": ".py"
  },
  "kernelspec": {
   "name": "python3",
   "display_name": "Python 3.9.2 64-bit"
  },
  "interpreter": {
   "hash": "dcacb0086e9a4f4eabd41c33bf4faac5ea0a3337ed3f5eff0680afa930572c04"
  }
 },
 "nbformat": 4,
 "nbformat_minor": 2
}